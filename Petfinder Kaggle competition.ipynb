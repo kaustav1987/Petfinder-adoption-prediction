{
 "cells": [
  {
   "cell_type": "markdown",
   "metadata": {},
   "source": [
    "## Pet finder Prediction"
   ]
  },
  {
   "cell_type": "code",
   "execution_count": 1,
   "metadata": {},
   "outputs": [],
   "source": [
    "import gc\n",
    "import glob\n",
    "import os\n",
    "\n",
    "import json\n",
    "import matplotlib.pyplot as plt\n",
    "import pprint\n",
    "import numpy as np\n",
    "import pandas as pd\n",
    "from sklearn.externals.joblib import Parallel, delayed\n",
    "from tqdm import tqdm_notebook\n",
    "from PIL import Image\n",
    "#import cv2\n",
    "\n",
    "%matplotlib inline\n",
    "\n"
   ]
  },
  {
   "cell_type": "code",
   "execution_count": 2,
   "metadata": {},
   "outputs": [],
   "source": [
    "import cv2"
   ]
  },
  {
   "cell_type": "code",
   "execution_count": 3,
   "metadata": {},
   "outputs": [],
   "source": [
    "import warnings\n",
    "warnings.filterwarnings('ignore')"
   ]
  },
  {
   "cell_type": "code",
   "execution_count": 4,
   "metadata": {},
   "outputs": [],
   "source": [
    "pd.options.display.max_rows= 128\n",
    "pd.options.display.max_columns = 128"
   ]
  },
  {
   "cell_type": "code",
   "execution_count": 5,
   "metadata": {},
   "outputs": [],
   "source": [
    "plt.rcParams['figure.figsize'] = (12,9)"
   ]
  },
  {
   "cell_type": "code",
   "execution_count": 6,
   "metadata": {},
   "outputs": [
    {
     "data": {
      "text/plain": [
       "['sample_submission.csv', 'test.csv']"
      ]
     },
     "execution_count": 6,
     "metadata": {},
     "output_type": "execute_result"
    }
   ],
   "source": [
    "os.listdir('./input/petfinder-adoption-prediction/test')"
   ]
  },
  {
   "cell_type": "code",
   "execution_count": 7,
   "metadata": {},
   "outputs": [],
   "source": [
    "df_train = pd.read_csv('./input/petfinder-adoption-prediction/train/train.csv')\n",
    "df_test  = pd.read_csv('./input/petfinder-adoption-prediction/test/test.csv')\n",
    "sample_submission = pd.read_csv('./input/petfinder-adoption-prediction/test/sample_submission.csv')"
   ]
  },
  {
   "cell_type": "markdown",
   "metadata": {},
   "source": [
    "##### load mapping dictionaries:"
   ]
  },
  {
   "cell_type": "code",
   "execution_count": 8,
   "metadata": {},
   "outputs": [],
   "source": [
    "labels_breed = pd.read_csv('./input/petfinder-adoption-prediction/breed_labels.csv')\n",
    "labels_state = pd.read_csv('./input/petfinder-adoption-prediction/color_labels.csv')\n",
    "labels_color = pd.read_csv('./input/petfinder-adoption-prediction/state_labels.csv')"
   ]
  },
  {
   "cell_type": "code",
   "execution_count": 9,
   "metadata": {},
   "outputs": [
    {
     "data": {
      "text/plain": [
       "11"
      ]
     },
     "execution_count": 9,
     "metadata": {},
     "output_type": "execute_result"
    }
   ],
   "source": [
    "gc.collect()"
   ]
  },
  {
   "cell_type": "code",
   "execution_count": 10,
   "metadata": {},
   "outputs": [],
   "source": [
    "train_image_files = glob.glob('./input/petfinder-adoption-prediction/train_images/*jpg')\n",
    "train_metadata_files = glob.glob('./input/petfinder-adoption-prediction/train_metadata/*json')\n",
    "train_sentiment_files = glob.glob('./input/petfinder-adoption-prediction/train_sentiment/*json')\n",
    "\n",
    "\n",
    "test_image_files     = glob.glob('./input/petfinder-adoption-prediction/test_images/*jpg')\n",
    "test_metadata_files  = glob.glob('./input/petfinder-adoption-prediction/test_metadata/*json')\n",
    "test_sentiment_files = glob.glob('./input/petfinder-adoption-prediction/test_sentiment/*json')"
   ]
  },
  {
   "cell_type": "code",
   "execution_count": 11,
   "metadata": {},
   "outputs": [
    {
     "data": {
      "text/plain": [
       "Index(['Type', 'Name', 'Age', 'Breed1', 'Breed2', 'Gender', 'Color1', 'Color2',\n",
       "       'Color3', 'MaturitySize', 'FurLength', 'Vaccinated', 'Dewormed',\n",
       "       'Sterilized', 'Health', 'Quantity', 'Fee', 'State', 'RescuerID',\n",
       "       'VideoAmt', 'Description', 'PetID', 'PhotoAmt', 'AdoptionSpeed'],\n",
       "      dtype='object')"
      ]
     },
     "execution_count": 11,
     "metadata": {},
     "output_type": "execute_result"
    }
   ],
   "source": [
    "df_train.columns"
   ]
  },
  {
   "cell_type": "markdown",
   "metadata": {},
   "source": [
    "##### For Training Set"
   ]
  },
  {
   "cell_type": "code",
   "execution_count": 12,
   "metadata": {},
   "outputs": [
    {
     "data": {
      "text/plain": [
       "'./input/petfinder-adoption-prediction/train_images\\\\fffd9b5a8-1.jpg'"
      ]
     },
     "execution_count": 12,
     "metadata": {},
     "output_type": "execute_result"
    }
   ],
   "source": [
    "train_image_files[-1]"
   ]
  },
  {
   "cell_type": "code",
   "execution_count": 13,
   "metadata": {},
   "outputs": [
    {
     "name": "stdout",
     "output_type": "stream",
     "text": [
      "fraction pets with images  : 97.73 %\n"
     ]
    }
   ],
   "source": [
    "## Image file\n",
    "df_train_id = df_train['PetID']\n",
    "df_train_imgs = pd.DataFrame(train_image_files)  ## from glob.glob\n",
    "df_train_imgs.columns = ['image_filenames']\n",
    "\n",
    "df_train_pets = df_train_imgs['image_filenames'].apply(lambda x: x.split('\\\\')[-1].split('-')[0])\n",
    "df_train_imgs = df_train_imgs.assign(PetID=df_train_pets)\n",
    "\n",
    "\n",
    "print('fraction pets with images  : {:0.2f} %' .format(df_train_imgs['PetID'].nunique()*100/ df_train['PetID'].nunique()))"
   ]
  },
  {
   "cell_type": "code",
   "execution_count": 14,
   "metadata": {},
   "outputs": [
    {
     "data": {
      "text/html": [
       "<div>\n",
       "<style scoped>\n",
       "    .dataframe tbody tr th:only-of-type {\n",
       "        vertical-align: middle;\n",
       "    }\n",
       "\n",
       "    .dataframe tbody tr th {\n",
       "        vertical-align: top;\n",
       "    }\n",
       "\n",
       "    .dataframe thead th {\n",
       "        text-align: right;\n",
       "    }\n",
       "</style>\n",
       "<table border=\"1\" class=\"dataframe\">\n",
       "  <thead>\n",
       "    <tr style=\"text-align: right;\">\n",
       "      <th></th>\n",
       "      <th>image_filenames</th>\n",
       "      <th>PetID</th>\n",
       "    </tr>\n",
       "  </thead>\n",
       "  <tbody>\n",
       "    <tr>\n",
       "      <th>0</th>\n",
       "      <td>./input/petfinder-adoption-prediction/train_im...</td>\n",
       "      <td>0008c5398</td>\n",
       "    </tr>\n",
       "    <tr>\n",
       "      <th>1</th>\n",
       "      <td>./input/petfinder-adoption-prediction/train_im...</td>\n",
       "      <td>0008c5398</td>\n",
       "    </tr>\n",
       "  </tbody>\n",
       "</table>\n",
       "</div>"
      ],
      "text/plain": [
       "                                     image_filenames      PetID\n",
       "0  ./input/petfinder-adoption-prediction/train_im...  0008c5398\n",
       "1  ./input/petfinder-adoption-prediction/train_im...  0008c5398"
      ]
     },
     "execution_count": 14,
     "metadata": {},
     "output_type": "execute_result"
    }
   ],
   "source": [
    "## Manually verify\n",
    "df_train_imgs.head(2)"
   ]
  },
  {
   "cell_type": "code",
   "execution_count": 15,
   "metadata": {},
   "outputs": [
    {
     "data": {
      "text/plain": [
       "'./input/petfinder-adoption-prediction/train_metadata\\\\fffd9b5a8-1.json'"
      ]
     },
     "execution_count": 15,
     "metadata": {},
     "output_type": "execute_result"
    }
   ],
   "source": [
    "train_metadata_files[-1]"
   ]
  },
  {
   "cell_type": "code",
   "execution_count": 16,
   "metadata": {},
   "outputs": [
    {
     "name": "stdout",
     "output_type": "stream",
     "text": [
      "fraction pets with metadata  : 97.73 %\n"
     ]
    }
   ],
   "source": [
    "## Metadata files\n",
    "\n",
    "df_train_id = df_train['PetID']\n",
    "df_train_metadata = pd.DataFrame(train_metadata_files)  ## from glob.glob\n",
    "df_train_metadata.columns = ['metadata_filenames']\n",
    "\n",
    "df_train_pets = df_train_metadata['metadata_filenames'].apply(lambda x: x.split('\\\\')[-1].split('-')[0])\n",
    "df_train_metadata['PetID'] = df_train_pets\n",
    "\n",
    "\n",
    "print('fraction pets with metadata  : {:0.2f} %' .format(df_train_metadata['PetID'].nunique()*100/ df_train['PetID'].nunique()))"
   ]
  },
  {
   "cell_type": "code",
   "execution_count": 17,
   "metadata": {},
   "outputs": [
    {
     "data": {
      "text/html": [
       "<div>\n",
       "<style scoped>\n",
       "    .dataframe tbody tr th:only-of-type {\n",
       "        vertical-align: middle;\n",
       "    }\n",
       "\n",
       "    .dataframe tbody tr th {\n",
       "        vertical-align: top;\n",
       "    }\n",
       "\n",
       "    .dataframe thead th {\n",
       "        text-align: right;\n",
       "    }\n",
       "</style>\n",
       "<table border=\"1\" class=\"dataframe\">\n",
       "  <thead>\n",
       "    <tr style=\"text-align: right;\">\n",
       "      <th></th>\n",
       "      <th>metadata_filenames</th>\n",
       "      <th>PetID</th>\n",
       "    </tr>\n",
       "  </thead>\n",
       "  <tbody>\n",
       "    <tr>\n",
       "      <th>0</th>\n",
       "      <td>./input/petfinder-adoption-prediction/train_me...</td>\n",
       "      <td>0008c5398</td>\n",
       "    </tr>\n",
       "    <tr>\n",
       "      <th>1</th>\n",
       "      <td>./input/petfinder-adoption-prediction/train_me...</td>\n",
       "      <td>0008c5398</td>\n",
       "    </tr>\n",
       "  </tbody>\n",
       "</table>\n",
       "</div>"
      ],
      "text/plain": [
       "                                  metadata_filenames      PetID\n",
       "0  ./input/petfinder-adoption-prediction/train_me...  0008c5398\n",
       "1  ./input/petfinder-adoption-prediction/train_me...  0008c5398"
      ]
     },
     "execution_count": 17,
     "metadata": {},
     "output_type": "execute_result"
    }
   ],
   "source": [
    "## Manually verify\n",
    "df_train_metadata.head(2)"
   ]
  },
  {
   "cell_type": "code",
   "execution_count": 18,
   "metadata": {},
   "outputs": [
    {
     "name": "stdout",
     "output_type": "stream",
     "text": [
      "fraction pets with sentiment  : 96.32 %\n"
     ]
    }
   ],
   "source": [
    "## Sentiment files\n",
    "\n",
    "df_train_id = df_train['PetID']\n",
    "df_train_sentiment = pd.DataFrame(train_sentiment_files)  ## from glob.glob\n",
    "df_train_sentiment.columns = ['sentiment_filenames']\n",
    "\n",
    "df_train_pets = df_train_sentiment['sentiment_filenames'].apply(lambda x: x.split('\\\\')[-1].split('.')[0])\n",
    "df_train_sentiment['PetID'] = df_train_pets\n",
    "\n",
    "\n",
    "print('fraction pets with sentiment  : {:0.2f} %' \n",
    "      .format(df_train_sentiment['PetID'].nunique()*100/ df_train['PetID'].nunique()))"
   ]
  },
  {
   "cell_type": "code",
   "execution_count": 19,
   "metadata": {},
   "outputs": [
    {
     "data": {
      "text/html": [
       "<div>\n",
       "<style scoped>\n",
       "    .dataframe tbody tr th:only-of-type {\n",
       "        vertical-align: middle;\n",
       "    }\n",
       "\n",
       "    .dataframe tbody tr th {\n",
       "        vertical-align: top;\n",
       "    }\n",
       "\n",
       "    .dataframe thead th {\n",
       "        text-align: right;\n",
       "    }\n",
       "</style>\n",
       "<table border=\"1\" class=\"dataframe\">\n",
       "  <thead>\n",
       "    <tr style=\"text-align: right;\">\n",
       "      <th></th>\n",
       "      <th>sentiment_filenames</th>\n",
       "      <th>PetID</th>\n",
       "    </tr>\n",
       "  </thead>\n",
       "  <tbody>\n",
       "    <tr>\n",
       "      <th>0</th>\n",
       "      <td>./input/petfinder-adoption-prediction/train_se...</td>\n",
       "      <td>0008c5398</td>\n",
       "    </tr>\n",
       "    <tr>\n",
       "      <th>1</th>\n",
       "      <td>./input/petfinder-adoption-prediction/train_se...</td>\n",
       "      <td>000a290e4</td>\n",
       "    </tr>\n",
       "  </tbody>\n",
       "</table>\n",
       "</div>"
      ],
      "text/plain": [
       "                                 sentiment_filenames      PetID\n",
       "0  ./input/petfinder-adoption-prediction/train_se...  0008c5398\n",
       "1  ./input/petfinder-adoption-prediction/train_se...  000a290e4"
      ]
     },
     "execution_count": 19,
     "metadata": {},
     "output_type": "execute_result"
    }
   ],
   "source": [
    "## Manually verify\n",
    "df_train_sentiment.head(2)"
   ]
  },
  {
   "cell_type": "markdown",
   "metadata": {},
   "source": [
    "##### For Test Set"
   ]
  },
  {
   "cell_type": "code",
   "execution_count": 20,
   "metadata": {},
   "outputs": [
    {
     "name": "stdout",
     "output_type": "stream",
     "text": [
      "fraction pets with images  : 96.78 %\n"
     ]
    }
   ],
   "source": [
    "## Image file\n",
    "df_test_id = df_test['PetID']\n",
    "df_test_imgs = pd.DataFrame(test_image_files)  ## from glob.glob\n",
    "df_test_imgs.columns = ['image_filenames']\n",
    "\n",
    "df_test_pets = df_test_imgs['image_filenames'].apply(lambda x: x.split('\\\\')[-1].split('-')[0])\n",
    "df_test_imgs = df_test_imgs.assign(PetID=df_test_pets)\n",
    "\n",
    "\n",
    "print('fraction pets with images  : {:0.2f} %' .format(df_test_imgs['PetID'].nunique()*100/ df_test['PetID'].nunique()))"
   ]
  },
  {
   "cell_type": "code",
   "execution_count": 21,
   "metadata": {},
   "outputs": [
    {
     "name": "stdout",
     "output_type": "stream",
     "text": [
      "fraction pets with metadata  : 96.78 %\n"
     ]
    }
   ],
   "source": [
    "## Metadata files\n",
    "\n",
    "df_test_id = df_test['PetID']\n",
    "df_test_metadata = pd.DataFrame(test_metadata_files)  ## from glob.glob\n",
    "df_test_metadata.columns = ['metadata_filenames']\n",
    "\n",
    "df_test_pets = df_test_metadata['metadata_filenames'].apply(lambda x: x.split('\\\\')[-1].split('-')[0])\n",
    "df_test_metadata['PetID'] = df_test_pets\n",
    "\n",
    "\n",
    "print('fraction pets with metadata  : {:0.2f} %' .format(df_test_metadata['PetID'].nunique()*100/ df_test['PetID'].nunique()))"
   ]
  },
  {
   "cell_type": "code",
   "execution_count": 22,
   "metadata": {},
   "outputs": [
    {
     "name": "stdout",
     "output_type": "stream",
     "text": [
      "fraction pets with sentiment  : 96.63 %\n"
     ]
    }
   ],
   "source": [
    "## Sentiment files\n",
    "\n",
    "df_test_id = df_test['PetID']\n",
    "df_test_sentiment = pd.DataFrame(test_sentiment_files)  ## from glob.glob\n",
    "df_test_sentiment.columns = ['sentiment_filenames']\n",
    "\n",
    "df_test_pets = df_test_sentiment['sentiment_filenames'].apply(lambda x: x.split('\\\\')[-1].split('.')[0])\n",
    "df_test_sentiment['PetID'] = df_test_pets\n",
    "\n",
    "\n",
    "print('fraction pets with sentiment  : {:0.2f} %' \n",
    "      .format(df_test_sentiment['PetID'].nunique()*100/ df_test['PetID'].nunique()))"
   ]
  },
  {
   "cell_type": "code",
   "execution_count": 23,
   "metadata": {},
   "outputs": [],
   "source": [
    "## train_imgs_pets\n",
    "\n",
    "class PetFinderParser(object):\n",
    "    \n",
    "    \n",
    "    def __init__(self , debug = False):\n",
    "        self.debug = debug\n",
    "        self.sentence_sep = ' '\n",
    "        self.extract_sentiment_text = ' '\n",
    "    \n",
    "    \n",
    "    def open_metadata_file(self,filename):\n",
    "        ''' \n",
    "        Load Metadata File\n",
    "        '''\n",
    "        with open(filename,'r', encoding = 'utf8') as f:\n",
    "            metadata_file = json.load(f)\n",
    "        return metadata_file\n",
    "        \n",
    "    def open_sentiment_file(self, filename):\n",
    "        ''' \n",
    "        Load Sentiment\n",
    "        '''\n",
    "        with open(filename,'r', encoding = 'utf8') as f:\n",
    "            sentiment_file = json.load(f)\n",
    "        return sentiment_file\n",
    "        \n",
    "        \n",
    "    def open_image_file(self,filename):\n",
    "        '''\n",
    "        Load Images\n",
    "        '''\n",
    "        with open(filename, 'r') as  f:\n",
    "            image = np.asarray(Image.open(filename))\n",
    "        return image\n",
    "    \n",
    "    \n",
    "    def parse_sentiment_file(self,file):\n",
    "        \"\"\"\n",
    "        Parse sentiment file. Output DF with sentiment features.\n",
    "        \"\"\"\n",
    "        \n",
    "        file_sentiment = file['documentSentiment']  ## This has magnitude and score\n",
    "        file_entities = [x['name'] for x in file['entities']]\n",
    "        file_entities = self.sentence_sep.join(file_entities)\n",
    "        \n",
    "        \n",
    "        if self.extract_sentiment_text:\n",
    "            file_sentences_text = [x['text']['content'] for x in file['sentences']]\n",
    "            file_sentences_text = self.sentence_sep.join(file_sentences_text)\n",
    "        \n",
    "        file_sentences_sentiment = [x['sentiment'] for x in file['sentences']]\n",
    "        file_sentences_sentiment = pd.DataFrame.from_dict(file_sentences_sentiment , orient = 'columns').sum()\n",
    "        file_sentences_sentiment = file_sentences_sentiment.add_prefix('document_').to_dict()\n",
    "        file_sentiment.update(file_sentences_sentiment)\n",
    "        df_sentiment = pd.DataFrame.from_dict(file_sentiment, orient = 'index').T  ## here we have 4 columns\n",
    "        if self.extract_sentiment_text:\n",
    "            df_sentiment['text'] = file_sentences_text \n",
    "        \n",
    "        df_sentiment['entities'] = file_entities \n",
    "        df_sentiment = df_sentiment.add_prefix('sentiment_')\n",
    "        return df_sentiment\n",
    "    \n",
    "    \n",
    "    def parse_metadata_file(self,file):\n",
    "        '''\n",
    "        Parse Metadata File\n",
    "        '''\n",
    "        if 'labelAnnotations' in  file.keys():\n",
    "            file_annots = file['labelAnnotations'][: int(len(file['labelAnnotations'])*0.3)]\n",
    "            file_top_score = np.asarray([x['score'] for x in file_annots]).mean()\n",
    "            file_top_desc = [x['description'] for x in file_annots]\n",
    "        else:\n",
    "            file_top_score = np.nan\n",
    "            file_top_desc = [' ']\n",
    "        \n",
    "        file_colors = file['imagePropertiesAnnotation']['dominantColors']['colors']\n",
    "        file_colors_score = np.asarray([x['score'] for x in file_colors]).mean()\n",
    "        file_colors_pixelFrac = np.asarray([x['pixelFraction'] for x in file_colors]).mean()\n",
    "        \n",
    "        file_crop = file['cropHintsAnnotation']['cropHints']\n",
    "        \n",
    "        file_crop_conf = np.asarray([x['confidence'] for x in file_crop]).mean()\n",
    "        if 'importanceFraction' in file_crop[0].keys():\n",
    "            file_crop_importance = np.asarray([x['importanceFraction'] for x in file_crop]).mean()\n",
    "        else:\n",
    "            file_crop_importance = np.nan\n",
    "            \n",
    "        df_metadata = {\n",
    "            'annots_score':file_top_score,\n",
    "            'annots_top_desc' : self.sentence_sep.join(file_top_desc),\n",
    "            \n",
    "            'colors_score' :  file_colors_score,\n",
    "            'colors_pixelFrac' : file_colors_pixelFrac,\n",
    "            \n",
    "            'crop_conf' : file_crop_conf ,\n",
    "            'crop_importance' : file_crop_importance\n",
    "            \n",
    "        }\n",
    "        df_metadata = pd.DataFrame.from_dict(df_metadata, orient = 'index').T\n",
    "        \n",
    "        df_metadata = df_metadata.add_prefix('metadata_')\n",
    "        return df_metadata\n",
    "        \n",
    "# Helper function for parallel data processing:\n",
    "\n",
    "def extract_additional_features(pet_id, mode = 'train'):\n",
    "    sentiment_filename = './input/petfinder-adoption-prediction/{}_sentiment/{}.json'.format(mode, pet_id)\n",
    "    try:\n",
    "        sentiment_file = pet_finder_parser.open_sentiment_file(sentiment_filename)\n",
    "        df_sentiment   = pet_finder_parser.parse_sentiment_file(sentiment_file) \n",
    "        df_sentiment['PetID'] =pet_id\n",
    "    except FileNotFoundError:\n",
    "        print('abcd')\n",
    "        df_sentiment = []\n",
    "    \n",
    "    dfs_metadata = []\n",
    "    metadata_files = sorted(glob.glob('./input/petfinder-adoption-prediction/{}_metadata/{}*.json'.format(mode, pet_id)))\n",
    "    if len(metadata_files) > 0:\n",
    "        for f in metadata_files:\n",
    "            metadata_file = pet_finder_parser.open_metadata_file(f)\n",
    "            df_metadata   = pet_finder_parser.parse_metadata_file(metadata_file) \n",
    "            df_metadata['PetID'] = pet_id\n",
    "            dfs_metadata.append(df_metadata)\n",
    "        dfs_metadata = pd.concat(dfs_metadata, ignore_index = True, sort = False)\n",
    "        \n",
    "    dfs = [df_sentiment, dfs_metadata]\n",
    "    \n",
    "    return dfs\n",
    "\n",
    "pet_finder_parser = PetFinderParser()"
   ]
  },
  {
   "cell_type": "code",
   "execution_count": null,
   "metadata": {},
   "outputs": [],
   "source": []
  },
  {
   "cell_type": "code",
   "execution_count": 24,
   "metadata": {},
   "outputs": [
    {
     "name": "stderr",
     "output_type": "stream",
     "text": [
      "[Parallel(n_jobs=8)]: Using backend LokyBackend with 8 concurrent workers.\n",
      "[Parallel(n_jobs=8)]: Done  34 tasks      | elapsed:    9.0s\n",
      "[Parallel(n_jobs=8)]: Done 184 tasks      | elapsed:   27.9s\n",
      "[Parallel(n_jobs=8)]: Done 434 tasks      | elapsed:  1.0min\n",
      "[Parallel(n_jobs=8)]: Done 784 tasks      | elapsed:  1.7min\n",
      "[Parallel(n_jobs=8)]: Done 1000 out of 1000 | elapsed:  2.2min finished\n"
     ]
    },
    {
     "name": "stdout",
     "output_type": "stream",
     "text": [
      "(949, 7) (3996, 7)\n"
     ]
    }
   ],
   "source": [
    "##unique Pet Ids\n",
    "\n",
    "debug = True\n",
    "\n",
    "train_pet_id = df_train['PetID'].unique()\n",
    "test_pet_id  = df_test['PetID'].unique()\n",
    "\n",
    "if debug == True:\n",
    "    train_pet_id = train_pet_id[:1000]\n",
    "    test_pet_id  = test_pet_id[:500]\n",
    "    \n",
    "dfs_train = Parallel(n_jobs = 8, verbose =1)(\n",
    "            delayed(extract_additional_features)(i, mode = 'train') for i in train_pet_id)\n",
    "\n",
    "\n",
    "train_dfs_sentiment = [x[0] for x in dfs_train if isinstance(x[0], pd.DataFrame)]\n",
    "train_dfs_metadata  = [x[1] for x in dfs_train if isinstance(x[1], pd.DataFrame)]\n",
    "\n",
    "\n",
    "train_dfs_sentiment = pd.concat(train_dfs_sentiment, ignore_index = True, sort = False)\n",
    "train_dfs_metadata  = pd.concat(train_dfs_metadata, ignore_index = True, sort = False)\n",
    "\n",
    "print(train_dfs_sentiment.shape,train_dfs_metadata.shape )"
   ]
  },
  {
   "cell_type": "code",
   "execution_count": 25,
   "metadata": {},
   "outputs": [
    {
     "data": {
      "text/plain": [
       "Index(['sentiment_magnitude', 'sentiment_score',\n",
       "       'sentiment_document_magnitude', 'sentiment_document_score',\n",
       "       'sentiment_text', 'sentiment_entities', 'PetID'],\n",
       "      dtype='object')"
      ]
     },
     "execution_count": 25,
     "metadata": {},
     "output_type": "execute_result"
    }
   ],
   "source": [
    "train_dfs_sentiment.columns"
   ]
  },
  {
   "cell_type": "code",
   "execution_count": 26,
   "metadata": {},
   "outputs": [
    {
     "name": "stderr",
     "output_type": "stream",
     "text": [
      "[Parallel(n_jobs=8)]: Using backend LokyBackend with 8 concurrent workers.\n",
      "[Parallel(n_jobs=8)]: Done  34 tasks      | elapsed:    1.5s\n",
      "[Parallel(n_jobs=8)]: Done 184 tasks      | elapsed:    9.2s\n",
      "[Parallel(n_jobs=8)]: Done 434 tasks      | elapsed:   26.4s\n",
      "[Parallel(n_jobs=8)]: Done 500 out of 500 | elapsed:   31.7s finished\n"
     ]
    },
    {
     "name": "stdout",
     "output_type": "stream",
     "text": [
      "(497, 7) (1792, 7)\n"
     ]
    }
   ],
   "source": [
    "# Test set:\n",
    "# Parallel processing of data:\n",
    "dfs_test = Parallel(n_jobs=8, verbose=1)(\n",
    "    delayed(extract_additional_features)(i, mode='test') for i in test_pet_id)\n",
    "\n",
    "# Extract processed data and format them as DFs:\n",
    "test_dfs_sentiment = [x[0] for x in dfs_test if isinstance(x[0], pd.DataFrame)]\n",
    "test_dfs_metadata = [x[1] for x in dfs_test if isinstance(x[1], pd.DataFrame)]\n",
    "\n",
    "test_dfs_sentiment = pd.concat(test_dfs_sentiment, ignore_index=True, sort=False)\n",
    "test_dfs_metadata = pd.concat(test_dfs_metadata, ignore_index=True, sort=False)\n",
    "\n",
    "print(test_dfs_sentiment.shape, test_dfs_metadata.shape)"
   ]
  },
  {
   "cell_type": "code",
   "execution_count": 27,
   "metadata": {},
   "outputs": [],
   "source": [
    "# Extend aggregates and improve column naming\n",
    "\n",
    "aggregates = ['mean', 'sum']\n",
    "\n",
    "train_metadata_desc = train_dfs_metadata.groupby(['PetID'])['metadata_annots_top_desc'].unique()\n",
    "train_metadata_desc = train_metadata_desc.reset_index()\n",
    "train_metadata_desc['metadata_annots_top_desc'] = train_metadata_desc['metadata_annots_top_desc'].apply(lambda x: ' '.join(x))\n",
    "\n",
    "                            \n",
    "\n",
    "prefix = 'metadata'\n",
    "\n",
    "train_metadata_gr = train_dfs_metadata.drop(['metadata_annots_top_desc'], axis =1)\n",
    "\n",
    "### convert the column type to float\n",
    "\n",
    "for i in train_metadata_gr.columns:\n",
    "    if i not in  'PetID':\n",
    "        train_metadata_gr[i] = train_metadata_gr[i].astype(float)\n",
    "    \n",
    "train_metadata_gr = train_metadata_gr.groupby(['PetID']).agg(aggregates)\n",
    "\n",
    "train_metadata_gr.columns = pd.Index(['{}_{}_{}'.format(\n",
    "            prefix, c[0], c[1].upper()) for c in train_metadata_gr.columns.tolist()])\n",
    "\n",
    "train_metadata_gr = train_metadata_gr.reset_index()\n",
    "\n",
    "##Train sentiment\n",
    "\n",
    "train_sentiment_desc = train_dfs_sentiment.groupby(['PetID'])['sentiment_entities'].unique()\n",
    "train_sentiment_desc = train_sentiment_desc.reset_index()\n",
    "train_sentiment_desc[\n",
    "    'sentiment_entities'] = train_sentiment_desc[\n",
    "    'sentiment_entities'].apply(lambda x: ' '.join(x))\n",
    "\n",
    "prefix = 'sentiment'\n",
    "##print(train_sentiment_gr.columns)\n",
    "train_sentiment_gr = train_dfs_sentiment.drop(['sentiment_entities','sentiment_text'], axis=1)\n",
    "\n",
    "\n",
    "for i in train_sentiment_gr.columns:\n",
    "    if ('PetID' not in i) :\n",
    "        train_sentiment_gr[i] = train_sentiment_gr[i].astype(float)\n",
    "train_sentiment_gr = train_sentiment_gr.groupby(['PetID']).agg(aggregates)\n",
    "train_sentiment_gr.columns = pd.Index(['{}_{}_{}'.format(\n",
    "            prefix, c[0], c[1].upper()) for c in train_sentiment_gr.columns.tolist()])\n",
    "train_sentiment_gr = train_sentiment_gr.reset_index()"
   ]
  },
  {
   "cell_type": "code",
   "execution_count": 28,
   "metadata": {},
   "outputs": [
    {
     "data": {
      "text/html": [
       "<div>\n",
       "<style scoped>\n",
       "    .dataframe tbody tr th:only-of-type {\n",
       "        vertical-align: middle;\n",
       "    }\n",
       "\n",
       "    .dataframe tbody tr th {\n",
       "        vertical-align: top;\n",
       "    }\n",
       "\n",
       "    .dataframe thead th {\n",
       "        text-align: right;\n",
       "    }\n",
       "</style>\n",
       "<table border=\"1\" class=\"dataframe\">\n",
       "  <thead>\n",
       "    <tr style=\"text-align: right;\">\n",
       "      <th></th>\n",
       "      <th>PetID</th>\n",
       "      <th>metadata_metadata_annots_score_MEAN</th>\n",
       "      <th>metadata_metadata_annots_score_SUM</th>\n",
       "      <th>metadata_metadata_colors_score_MEAN</th>\n",
       "      <th>metadata_metadata_colors_score_SUM</th>\n",
       "      <th>metadata_metadata_colors_pixelFrac_MEAN</th>\n",
       "      <th>metadata_metadata_colors_pixelFrac_SUM</th>\n",
       "      <th>metadata_metadata_crop_conf_MEAN</th>\n",
       "      <th>metadata_metadata_crop_conf_SUM</th>\n",
       "      <th>metadata_metadata_crop_importance_MEAN</th>\n",
       "      <th>metadata_metadata_crop_importance_SUM</th>\n",
       "    </tr>\n",
       "  </thead>\n",
       "  <tbody>\n",
       "    <tr>\n",
       "      <th>0</th>\n",
       "      <td>0052dcf47</td>\n",
       "      <td>0.938122</td>\n",
       "      <td>2.814365</td>\n",
       "      <td>0.087819</td>\n",
       "      <td>0.263457</td>\n",
       "      <td>0.060522</td>\n",
       "      <td>0.181565</td>\n",
       "      <td>0.8</td>\n",
       "      <td>2.4</td>\n",
       "      <td>1.0</td>\n",
       "      <td>3.0</td>\n",
       "    </tr>\n",
       "  </tbody>\n",
       "</table>\n",
       "</div>"
      ],
      "text/plain": [
       "       PetID  metadata_metadata_annots_score_MEAN  \\\n",
       "0  0052dcf47                             0.938122   \n",
       "\n",
       "   metadata_metadata_annots_score_SUM  metadata_metadata_colors_score_MEAN  \\\n",
       "0                            2.814365                             0.087819   \n",
       "\n",
       "   metadata_metadata_colors_score_SUM  \\\n",
       "0                            0.263457   \n",
       "\n",
       "   metadata_metadata_colors_pixelFrac_MEAN  \\\n",
       "0                                 0.060522   \n",
       "\n",
       "   metadata_metadata_colors_pixelFrac_SUM  metadata_metadata_crop_conf_MEAN  \\\n",
       "0                                0.181565                               0.8   \n",
       "\n",
       "   metadata_metadata_crop_conf_SUM  metadata_metadata_crop_importance_MEAN  \\\n",
       "0                              2.4                                     1.0   \n",
       "\n",
       "   metadata_metadata_crop_importance_SUM  \n",
       "0                                    3.0  "
      ]
     },
     "execution_count": 28,
     "metadata": {},
     "output_type": "execute_result"
    }
   ],
   "source": [
    "train_metadata_gr.head(1)"
   ]
  },
  {
   "cell_type": "code",
   "execution_count": 29,
   "metadata": {},
   "outputs": [
    {
     "data": {
      "text/html": [
       "<div>\n",
       "<style scoped>\n",
       "    .dataframe tbody tr th:only-of-type {\n",
       "        vertical-align: middle;\n",
       "    }\n",
       "\n",
       "    .dataframe tbody tr th {\n",
       "        vertical-align: top;\n",
       "    }\n",
       "\n",
       "    .dataframe thead th {\n",
       "        text-align: right;\n",
       "    }\n",
       "</style>\n",
       "<table border=\"1\" class=\"dataframe\">\n",
       "  <thead>\n",
       "    <tr style=\"text-align: right;\">\n",
       "      <th></th>\n",
       "      <th>PetID</th>\n",
       "      <th>metadata_metadata_annots_score_MEAN</th>\n",
       "      <th>metadata_metadata_annots_score_SUM</th>\n",
       "      <th>metadata_metadata_colors_score_MEAN</th>\n",
       "      <th>metadata_metadata_colors_score_SUM</th>\n",
       "      <th>metadata_metadata_colors_pixelFrac_MEAN</th>\n",
       "      <th>metadata_metadata_colors_pixelFrac_SUM</th>\n",
       "      <th>metadata_metadata_crop_conf_MEAN</th>\n",
       "      <th>metadata_metadata_crop_conf_SUM</th>\n",
       "      <th>metadata_metadata_crop_importance_MEAN</th>\n",
       "      <th>metadata_metadata_crop_importance_SUM</th>\n",
       "    </tr>\n",
       "  </thead>\n",
       "  <tbody>\n",
       "    <tr>\n",
       "      <th>0</th>\n",
       "      <td>0052dcf47</td>\n",
       "      <td>0.938122</td>\n",
       "      <td>2.814365</td>\n",
       "      <td>0.087819</td>\n",
       "      <td>0.263457</td>\n",
       "      <td>0.060522</td>\n",
       "      <td>0.181565</td>\n",
       "      <td>0.8</td>\n",
       "      <td>2.4</td>\n",
       "      <td>1.0</td>\n",
       "      <td>3.0</td>\n",
       "    </tr>\n",
       "  </tbody>\n",
       "</table>\n",
       "</div>"
      ],
      "text/plain": [
       "       PetID  metadata_metadata_annots_score_MEAN  \\\n",
       "0  0052dcf47                             0.938122   \n",
       "\n",
       "   metadata_metadata_annots_score_SUM  metadata_metadata_colors_score_MEAN  \\\n",
       "0                            2.814365                             0.087819   \n",
       "\n",
       "   metadata_metadata_colors_score_SUM  \\\n",
       "0                            0.263457   \n",
       "\n",
       "   metadata_metadata_colors_pixelFrac_MEAN  \\\n",
       "0                                 0.060522   \n",
       "\n",
       "   metadata_metadata_colors_pixelFrac_SUM  metadata_metadata_crop_conf_MEAN  \\\n",
       "0                                0.181565                               0.8   \n",
       "\n",
       "   metadata_metadata_crop_conf_SUM  metadata_metadata_crop_importance_MEAN  \\\n",
       "0                              2.4                                     1.0   \n",
       "\n",
       "   metadata_metadata_crop_importance_SUM  \n",
       "0                                    3.0  "
      ]
     },
     "execution_count": 29,
     "metadata": {},
     "output_type": "execute_result"
    }
   ],
   "source": [
    "train_metadata_gr.head(1)"
   ]
  },
  {
   "cell_type": "code",
   "execution_count": 30,
   "metadata": {},
   "outputs": [],
   "source": [
    "# Test\n",
    "test_metadata_desc = test_dfs_metadata.groupby(['PetID'])['metadata_annots_top_desc'].unique()\n",
    "test_metadata_desc = test_metadata_desc.reset_index()\n",
    "test_metadata_desc[\n",
    "    'metadata_annots_top_desc'] = test_metadata_desc[\n",
    "    'metadata_annots_top_desc'].apply(lambda x: ' '.join(x))\n",
    "\n",
    "prefix = 'metadata'\n",
    "test_metadata_gr = test_dfs_metadata.drop(['metadata_annots_top_desc'], axis=1)\n",
    "for i in test_metadata_gr.columns:\n",
    "    if 'PetID' not in i:\n",
    "        test_metadata_gr[i] = test_metadata_gr[i].astype(float)\n",
    "test_metadata_gr = test_metadata_gr.groupby(['PetID']).agg(aggregates)\n",
    "test_metadata_gr.columns = pd.Index(['{}_{}_{}'.format(\n",
    "            prefix, c[0], c[1].upper()) for c in test_metadata_gr.columns.tolist()])\n",
    "test_metadata_gr = test_metadata_gr.reset_index()\n",
    "\n",
    "\n",
    "test_sentiment_desc = test_dfs_sentiment.groupby(['PetID'])['sentiment_entities'].unique()\n",
    "test_sentiment_desc = test_sentiment_desc.reset_index()\n",
    "test_sentiment_desc[\n",
    "    'sentiment_entities'] = test_sentiment_desc[\n",
    "    'sentiment_entities'].apply(lambda x: ' '.join(x))\n",
    "\n",
    "prefix = 'sentiment'\n",
    "test_sentiment_gr = test_dfs_sentiment.drop(['sentiment_entities','sentiment_text'], axis=1)\n",
    "for i in test_sentiment_gr.columns:\n",
    "    if 'PetID' not in i:\n",
    "        test_sentiment_gr[i] = test_sentiment_gr[i].astype(float)\n",
    "test_sentiment_gr = test_sentiment_gr.groupby(['PetID']).agg(aggregates)\n",
    "test_sentiment_gr.columns = pd.Index(['{}_{}_{}'.format(\n",
    "            prefix, c[0], c[1].upper()) for c in test_sentiment_gr.columns.tolist()])\n",
    "test_sentiment_gr = test_sentiment_gr.reset_index()\n"
   ]
  },
  {
   "cell_type": "markdown",
   "metadata": {},
   "source": [
    "##### merge processed DFs with base train/test DF"
   ]
  },
  {
   "cell_type": "code",
   "execution_count": 31,
   "metadata": {},
   "outputs": [
    {
     "name": "stdout",
     "output_type": "stream",
     "text": [
      "(14993, 44) (3948, 43)\n"
     ]
    }
   ],
   "source": [
    "## Train Merges\n",
    "\n",
    "train_proc = df_train.copy()\n",
    "train_proc = train_proc.merge(train_sentiment_gr, how='left', on='PetID')\n",
    "train_proc = train_proc.merge(train_sentiment_desc, how='left', on='PetID')\n",
    "train_proc = train_proc.merge(train_metadata_gr, how='left', on='PetID')\n",
    "train_proc = train_proc.merge(train_metadata_desc, how='left', on='PetID')\n",
    "\n",
    "# Test merges:\n",
    "test_proc = df_test.copy()\n",
    "test_proc = test_proc.merge(\n",
    "    test_sentiment_gr, how='left', on='PetID')\n",
    "test_proc = test_proc.merge(\n",
    "    test_metadata_gr, how='left', on='PetID')\n",
    "test_proc = test_proc.merge(\n",
    "    test_metadata_desc, how='left', on='PetID')\n",
    "test_proc = test_proc.merge(\n",
    "    test_sentiment_desc, how='left', on='PetID')\n",
    "\n",
    "\n",
    "print(train_proc.shape, test_proc.shape)\n",
    "assert train_proc.shape[0] == df_train.shape[0]\n",
    "assert test_proc.shape[0] == df_test.shape[0]"
   ]
  },
  {
   "cell_type": "code",
   "execution_count": 32,
   "metadata": {},
   "outputs": [],
   "source": [
    "#train_metadata_gr['PetID'].nunique()"
   ]
  },
  {
   "cell_type": "code",
   "execution_count": 33,
   "metadata": {},
   "outputs": [],
   "source": [
    "#df_train['PetID'].nunique()"
   ]
  },
  {
   "cell_type": "code",
   "execution_count": null,
   "metadata": {},
   "outputs": [],
   "source": []
  },
  {
   "cell_type": "code",
   "execution_count": 34,
   "metadata": {},
   "outputs": [
    {
     "name": "stdout",
     "output_type": "stream",
     "text": [
      "(14993, 48) (3948, 47)\n"
     ]
    }
   ],
   "source": [
    "train_breed_main = train_proc[['Breed1']].merge(\n",
    "    labels_breed, how='left',\n",
    "    left_on='Breed1', right_on='BreedID',\n",
    "    suffixes=('', '_main_breed'))\n",
    "\n",
    "train_breed_main = train_breed_main.iloc[:, 2:]  ## all the columns except the first 2 i.e. Breed1 and BreedID\n",
    "train_breed_main = train_breed_main.add_prefix('main_breed_')\n",
    "train_breed_main.head(1)\n",
    "\n",
    "train_breed_second = train_proc[['Breed2']].merge(\n",
    "    labels_breed, how='left',\n",
    "    left_on='Breed2', right_on='BreedID',\n",
    "    suffixes=('', '_second_breed'))\n",
    "\n",
    "train_breed_second = train_breed_second.iloc[:, 2:]\n",
    "train_breed_second = train_breed_second.add_prefix('second_breed_')\n",
    "\n",
    "train_proc = pd.concat(\n",
    "    [train_proc, train_breed_main, train_breed_second], axis=1)\n",
    "\n",
    "##test\n",
    "\n",
    "test_breed_main = test_proc[['Breed1']].merge(\n",
    "    labels_breed, how='left',\n",
    "    left_on='Breed1', right_on='BreedID',\n",
    "    suffixes=('', '_main_breed'))\n",
    "\n",
    "test_breed_main = test_breed_main.iloc[:, 2:]\n",
    "test_breed_main = test_breed_main.add_prefix('main_breed_')\n",
    "\n",
    "test_breed_second = test_proc[['Breed2']].merge(\n",
    "    labels_breed, how='left',\n",
    "    left_on='Breed2', right_on='BreedID',\n",
    "    suffixes=('', '_second_breed'))\n",
    "\n",
    "test_breed_second = test_breed_second.iloc[:, 2:]\n",
    "test_breed_second = test_breed_second.add_prefix('second_breed_')\n",
    "\n",
    "\n",
    "test_proc = pd.concat(\n",
    "    [test_proc, test_breed_main, test_breed_second], axis=1)\n",
    "\n",
    "print(train_proc.shape, test_proc.shape)"
   ]
  },
  {
   "cell_type": "markdown",
   "metadata": {},
   "source": [
    "##### concatenate train & test:"
   ]
  },
  {
   "cell_type": "code",
   "execution_count": 35,
   "metadata": {},
   "outputs": [],
   "source": [
    "#concatenate train & test:\n",
    "\n",
    "#Inspect NaN structure of the processed data: AdoptionSpeed is the target column"
   ]
  },
  {
   "cell_type": "code",
   "execution_count": 36,
   "metadata": {},
   "outputs": [
    {
     "name": "stdout",
     "output_type": "stream",
     "text": [
      "NaN structure:\n",
      "Type                                               0\n",
      "Name                                            1560\n",
      "Age                                                0\n",
      "Breed1                                             0\n",
      "Breed2                                             0\n",
      "Gender                                             0\n",
      "Color1                                             0\n",
      "Color2                                             0\n",
      "Color3                                             0\n",
      "MaturitySize                                       0\n",
      "FurLength                                          0\n",
      "Vaccinated                                         0\n",
      "Dewormed                                           0\n",
      "Sterilized                                         0\n",
      "Health                                             0\n",
      "Quantity                                           0\n",
      "Fee                                                0\n",
      "State                                              0\n",
      "RescuerID                                          0\n",
      "VideoAmt                                           0\n",
      "Description                                       14\n",
      "PetID                                              0\n",
      "PhotoAmt                                           0\n",
      "AdoptionSpeed                                   3948\n",
      "sentiment_sentiment_magnitude_MEAN             17495\n",
      "sentiment_sentiment_magnitude_SUM              17495\n",
      "sentiment_sentiment_score_MEAN                 17495\n",
      "sentiment_sentiment_score_SUM                  17495\n",
      "sentiment_sentiment_document_magnitude_MEAN    17495\n",
      "sentiment_sentiment_document_magnitude_SUM     17495\n",
      "sentiment_sentiment_document_score_MEAN        17495\n",
      "sentiment_sentiment_document_score_SUM         17495\n",
      "sentiment_entities                             17495\n",
      "metadata_metadata_annots_score_MEAN            17479\n",
      "metadata_metadata_annots_score_SUM             17479\n",
      "metadata_metadata_colors_score_MEAN            17479\n",
      "metadata_metadata_colors_score_SUM             17479\n",
      "metadata_metadata_colors_pixelFrac_MEAN        17479\n",
      "metadata_metadata_colors_pixelFrac_SUM         17479\n",
      "metadata_metadata_crop_conf_MEAN               17479\n",
      "metadata_metadata_crop_conf_SUM                17479\n",
      "metadata_metadata_crop_importance_MEAN         17479\n",
      "metadata_metadata_crop_importance_SUM          17479\n",
      "metadata_annots_top_desc                       17479\n",
      "main_breed_Type                                    5\n",
      "main_breed_BreedName                               5\n",
      "second_breed_Type                              13840\n",
      "second_breed_BreedName                         13840\n",
      "dtype: int64\n"
     ]
    }
   ],
   "source": [
    "X = pd.concat([train_proc, test_proc], ignore_index=True, sort=False)\n",
    "print('NaN structure:\\n{}'.format(np.sum(pd.isnull(X))))"
   ]
  },
  {
   "cell_type": "markdown",
   "metadata": {},
   "source": [
    "\n",
    "extract different column types:\n",
    "\n",
    "    integer columns are usually categorical features, which do not need encoding\n",
    "    float columns are numerical features\n",
    "    object columns are categorical features, which should be encoded\n",
    "\n"
   ]
  },
  {
   "cell_type": "code",
   "execution_count": 37,
   "metadata": {},
   "outputs": [
    {
     "data": {
      "text/plain": [
       "numpy.int64"
      ]
     },
     "execution_count": 37,
     "metadata": {},
     "output_type": "execute_result"
    }
   ],
   "source": [
    "type(X['Age'][0])"
   ]
  },
  {
   "cell_type": "code",
   "execution_count": 38,
   "metadata": {},
   "outputs": [
    {
     "name": "stdout",
     "output_type": "stream",
     "text": [
      "\tinteger columns:\n",
      "Type            int64\n",
      "Age             int64\n",
      "Breed1          int64\n",
      "Breed2          int64\n",
      "Gender          int64\n",
      "Color1          int64\n",
      "Color2          int64\n",
      "Color3          int64\n",
      "MaturitySize    int64\n",
      "FurLength       int64\n",
      "Vaccinated      int64\n",
      "Dewormed        int64\n",
      "Sterilized      int64\n",
      "Health          int64\n",
      "Quantity        int64\n",
      "Fee             int64\n",
      "State           int64\n",
      "VideoAmt        int64\n",
      "dtype: object\n",
      "\n",
      "\tfloat columns:\n",
      "PhotoAmt                                       float64\n",
      "AdoptionSpeed                                  float64\n",
      "sentiment_sentiment_magnitude_MEAN             float64\n",
      "sentiment_sentiment_magnitude_SUM              float64\n",
      "sentiment_sentiment_score_MEAN                 float64\n",
      "sentiment_sentiment_score_SUM                  float64\n",
      "sentiment_sentiment_document_magnitude_MEAN    float64\n",
      "sentiment_sentiment_document_magnitude_SUM     float64\n",
      "sentiment_sentiment_document_score_MEAN        float64\n",
      "sentiment_sentiment_document_score_SUM         float64\n",
      "metadata_metadata_annots_score_MEAN            float64\n",
      "metadata_metadata_annots_score_SUM             float64\n",
      "metadata_metadata_colors_score_MEAN            float64\n",
      "metadata_metadata_colors_score_SUM             float64\n",
      "metadata_metadata_colors_pixelFrac_MEAN        float64\n",
      "metadata_metadata_colors_pixelFrac_SUM         float64\n",
      "metadata_metadata_crop_conf_MEAN               float64\n",
      "metadata_metadata_crop_conf_SUM                float64\n",
      "metadata_metadata_crop_importance_MEAN         float64\n",
      "metadata_metadata_crop_importance_SUM          float64\n",
      "main_breed_Type                                float64\n",
      "second_breed_Type                              float64\n",
      "dtype: object\n",
      "\n",
      "\t to encode categorical columns:\n",
      "Name                        object\n",
      "RescuerID                   object\n",
      "Description                 object\n",
      "PetID                       object\n",
      "sentiment_entities          object\n",
      "metadata_annots_top_desc    object\n",
      "main_breed_BreedName        object\n",
      "second_breed_BreedName      object\n",
      "dtype: object\n"
     ]
    }
   ],
   "source": [
    "column_types = X.dtypes\n",
    "int_cols = column_types[(column_types == 'int64') | (column_types == 'int32')]\n",
    "float_cols = column_types[column_types == 'float']\n",
    "cat_cols = column_types[column_types == 'object']\n",
    "\n",
    "print('\\tinteger columns:\\n{}'.format(int_cols))\n",
    "print('\\n\\tfloat columns:\\n{}'.format(float_cols))\n",
    "print('\\n\\t to encode categorical columns:\\n{}'.format(cat_cols))"
   ]
  },
  {
   "cell_type": "code",
   "execution_count": 39,
   "metadata": {},
   "outputs": [],
   "source": [
    "# Copy original X DF for easier experimentation,\n",
    "# all feature engineering will be performed on this one:\n",
    "X_temp = X.copy()\n",
    "\n",
    "# Names are all unique, so they can be dropped by default\n",
    "# Same goes for PetID, it shouldn't be used as a feature\n",
    "# RescuerID will also be dropped as a feature based on this column will be extracted independently\n",
    "to_drop_columns = ['PetID', 'Name', 'RescuerID']\n",
    "\n",
    "\n",
    "# Select subsets of columns:\n",
    "text_columns = ['Description', 'metadata_annots_top_desc', 'sentiment_entities']\n",
    "categorical_columns = ['main_breed_BreedName', 'second_breed_BreedName']\n",
    "\n"
   ]
  },
  {
   "cell_type": "code",
   "execution_count": 40,
   "metadata": {},
   "outputs": [],
   "source": [
    "# Count RescuerID occurrences:\n",
    "rescuer_count = X.groupby(['RescuerID'])['PetID'].count().reset_index()\n",
    "rescuer_count.columns = ['RescuerID', 'RescuerID_COUNT']\n",
    "\n",
    "# Merge as another feature onto main DF:\n",
    "X_temp = X_temp.merge(rescuer_count, how='left', on='RescuerID')"
   ]
  },
  {
   "cell_type": "code",
   "execution_count": 47,
   "metadata": {},
   "outputs": [],
   "source": [
    "# Factorize categorical columns:\n",
    "for i in categorical_columns:\n",
    "    X_temp.loc[:, i] = pd.factorize(X_temp.loc[:, i])[0]\n",
    "    #print(i)\n",
    "    #print(X_temp.loc[:, i][0])\n",
    "    #print(pd.factorize(X_temp.loc[:, i])[0])\n",
    "    "
   ]
  },
  {
   "cell_type": "code",
   "execution_count": 48,
   "metadata": {},
   "outputs": [],
   "source": [
    "# Subset text features:\n",
    "X_text = X_temp[text_columns]\n",
    "\n",
    "for i in X_text.columns:\n",
    "    X_text.loc[:, i] = X_text.loc[:, i].fillna('<MISSING>')\n"
   ]
  },
  {
   "cell_type": "code",
   "execution_count": 49,
   "metadata": {},
   "outputs": [
    {
     "name": "stdout",
     "output_type": "stream",
     "text": [
      "generating features from: Description\n",
      "generating features from: metadata_annots_top_desc\n",
      "generating features from: sentiment_entities\n"
     ]
    }
   ],
   "source": [
    "from sklearn.feature_extraction.text import TfidfVectorizer\n",
    "from sklearn.decomposition import SparsePCA, TruncatedSVD, LatentDirichletAllocation, NMF\n",
    "\n",
    "n_components = 5\n",
    "text_features = []\n",
    "\n",
    "\n",
    "# Generate text features:\n",
    "for i in X_text.columns:\n",
    "    \n",
    "    # Initialize decomposition methods:\n",
    "    print('generating features from: {}'.format(i))\n",
    "    svd_ = TruncatedSVD(\n",
    "        n_components=n_components, random_state=1337)\n",
    "    nmf_ = NMF(\n",
    "        n_components=n_components, random_state=1337)\n",
    "    \n",
    "    tfidf_col = TfidfVectorizer().fit_transform(X_text.loc[:, i].values)\n",
    "    svd_col = svd_.fit_transform(tfidf_col)\n",
    "    svd_col = pd.DataFrame(svd_col)\n",
    "    svd_col = svd_col.add_prefix('SVD_{}_'.format(i))\n",
    "    \n",
    "    nmf_col = nmf_.fit_transform(tfidf_col)\n",
    "    nmf_col = pd.DataFrame(nmf_col)\n",
    "    nmf_col = nmf_col.add_prefix('NMF_{}_'.format(i))\n",
    "    \n",
    "    text_features.append(svd_col)\n",
    "    text_features.append(nmf_col)\n",
    "\n",
    "    \n",
    "# Combine all extracted features:\n",
    "text_features = pd.concat(text_features, axis=1)\n",
    "\n",
    "# Concatenate with main DF:\n",
    "X_temp = pd.concat([X_temp, text_features], axis=1)\n",
    "\n",
    "# Remove raw text columns:\n",
    "for i in X_text.columns:\n",
    "    X_temp = X_temp.drop(i, axis=1)"
   ]
  },
  {
   "cell_type": "code",
   "execution_count": 50,
   "metadata": {},
   "outputs": [
    {
     "name": "stdout",
     "output_type": "stream",
     "text": [
      "X shape: (18941, 73)\n"
     ]
    }
   ],
   "source": [
    "# Remove unnecessary columns:\n",
    "X_temp = X_temp.drop(to_drop_columns, axis=1)\n",
    "\n",
    "# Check final df shape:\n",
    "print('X shape: {}'.format(X_temp.shape))"
   ]
  },
  {
   "cell_type": "markdown",
   "metadata": {},
   "source": [
    "train/test split:"
   ]
  },
  {
   "cell_type": "code",
   "execution_count": 53,
   "metadata": {},
   "outputs": [
    {
     "name": "stdout",
     "output_type": "stream",
     "text": [
      "X_train shape: (14993, 73)\n",
      "X_test shape: (3948, 72)\n"
     ]
    }
   ],
   "source": [
    "# Split into train and test again:\n",
    "X_train = X_temp.loc[np.isfinite(X_temp.AdoptionSpeed), :]\n",
    "X_test = X_temp.loc[~np.isfinite(X_temp.AdoptionSpeed), :]\n",
    "\n",
    "# Remove missing target column from test:\n",
    "X_test = X_test.drop(['AdoptionSpeed'], axis=1)\n",
    "\n",
    "\n",
    "print('X_train shape: {}'.format(X_train.shape))\n",
    "print('X_test shape: {}'.format(X_test.shape))\n",
    "\n",
    "assert X_train.shape[0] == df_train.shape[0]\n",
    "assert X_test.shape[0] == df_test.shape[0]\n",
    "\n",
    "\n",
    "# Check if columns between the two DFs are the same:\n",
    "train_cols = X_train.columns.tolist()\n",
    "train_cols.remove('AdoptionSpeed')\n",
    "\n",
    "test_cols = X_test.columns.tolist()\n",
    "\n",
    "assert np.all(train_cols == test_cols)"
   ]
  },
  {
   "cell_type": "markdown",
   "metadata": {},
   "source": [
    "train and test NaN structure:"
   ]
  },
  {
   "cell_type": "code",
   "execution_count": 54,
   "metadata": {},
   "outputs": [
    {
     "data": {
      "text/plain": [
       "Type                                               0\n",
       "Age                                                0\n",
       "Breed1                                             0\n",
       "Breed2                                             0\n",
       "Gender                                             0\n",
       "Color1                                             0\n",
       "Color2                                             0\n",
       "Color3                                             0\n",
       "MaturitySize                                       0\n",
       "FurLength                                          0\n",
       "Vaccinated                                         0\n",
       "Dewormed                                           0\n",
       "Sterilized                                         0\n",
       "Health                                             0\n",
       "Quantity                                           0\n",
       "Fee                                                0\n",
       "State                                              0\n",
       "VideoAmt                                           0\n",
       "PhotoAmt                                           0\n",
       "AdoptionSpeed                                      0\n",
       "sentiment_sentiment_magnitude_MEAN             14044\n",
       "sentiment_sentiment_magnitude_SUM              14044\n",
       "sentiment_sentiment_score_MEAN                 14044\n",
       "sentiment_sentiment_score_SUM                  14044\n",
       "sentiment_sentiment_document_magnitude_MEAN    14044\n",
       "sentiment_sentiment_document_magnitude_SUM     14044\n",
       "sentiment_sentiment_document_score_MEAN        14044\n",
       "sentiment_sentiment_document_score_SUM         14044\n",
       "metadata_metadata_annots_score_MEAN            14023\n",
       "metadata_metadata_annots_score_SUM             14023\n",
       "metadata_metadata_colors_score_MEAN            14023\n",
       "metadata_metadata_colors_score_SUM             14023\n",
       "metadata_metadata_colors_pixelFrac_MEAN        14023\n",
       "metadata_metadata_colors_pixelFrac_SUM         14023\n",
       "metadata_metadata_crop_conf_MEAN               14023\n",
       "metadata_metadata_crop_conf_SUM                14023\n",
       "metadata_metadata_crop_importance_MEAN         14023\n",
       "metadata_metadata_crop_importance_SUM          14023\n",
       "main_breed_Type                                    5\n",
       "main_breed_BreedName                               0\n",
       "second_breed_Type                              10762\n",
       "second_breed_BreedName                             0\n",
       "RescuerID_COUNT                                    0\n",
       "SVD_Description_0                                  0\n",
       "SVD_Description_1                                  0\n",
       "SVD_Description_2                                  0\n",
       "SVD_Description_3                                  0\n",
       "SVD_Description_4                                  0\n",
       "NMF_Description_0                                  0\n",
       "NMF_Description_1                                  0\n",
       "NMF_Description_2                                  0\n",
       "NMF_Description_3                                  0\n",
       "NMF_Description_4                                  0\n",
       "SVD_metadata_annots_top_desc_0                     0\n",
       "SVD_metadata_annots_top_desc_1                     0\n",
       "SVD_metadata_annots_top_desc_2                     0\n",
       "SVD_metadata_annots_top_desc_3                     0\n",
       "SVD_metadata_annots_top_desc_4                     0\n",
       "NMF_metadata_annots_top_desc_0                     0\n",
       "NMF_metadata_annots_top_desc_1                     0\n",
       "NMF_metadata_annots_top_desc_2                     0\n",
       "NMF_metadata_annots_top_desc_3                     0\n",
       "NMF_metadata_annots_top_desc_4                     0\n",
       "SVD_sentiment_entities_0                           0\n",
       "SVD_sentiment_entities_1                           0\n",
       "SVD_sentiment_entities_2                           0\n",
       "SVD_sentiment_entities_3                           0\n",
       "SVD_sentiment_entities_4                           0\n",
       "NMF_sentiment_entities_0                           0\n",
       "NMF_sentiment_entities_1                           0\n",
       "NMF_sentiment_entities_2                           0\n",
       "NMF_sentiment_entities_3                           0\n",
       "NMF_sentiment_entities_4                           0\n",
       "dtype: int64"
      ]
     },
     "execution_count": 54,
     "metadata": {},
     "output_type": "execute_result"
    }
   ],
   "source": [
    "np.sum(pd.isnull(X_train))"
   ]
  },
  {
   "cell_type": "code",
   "execution_count": 55,
   "metadata": {},
   "outputs": [
    {
     "data": {
      "text/plain": [
       "Type                                              0\n",
       "Age                                               0\n",
       "Breed1                                            0\n",
       "Breed2                                            0\n",
       "Gender                                            0\n",
       "Color1                                            0\n",
       "Color2                                            0\n",
       "Color3                                            0\n",
       "MaturitySize                                      0\n",
       "FurLength                                         0\n",
       "Vaccinated                                        0\n",
       "Dewormed                                          0\n",
       "Sterilized                                        0\n",
       "Health                                            0\n",
       "Quantity                                          0\n",
       "Fee                                               0\n",
       "State                                             0\n",
       "VideoAmt                                          0\n",
       "PhotoAmt                                          0\n",
       "sentiment_sentiment_magnitude_MEAN             3451\n",
       "sentiment_sentiment_magnitude_SUM              3451\n",
       "sentiment_sentiment_score_MEAN                 3451\n",
       "sentiment_sentiment_score_SUM                  3451\n",
       "sentiment_sentiment_document_magnitude_MEAN    3451\n",
       "sentiment_sentiment_document_magnitude_SUM     3451\n",
       "sentiment_sentiment_document_score_MEAN        3451\n",
       "sentiment_sentiment_document_score_SUM         3451\n",
       "metadata_metadata_annots_score_MEAN            3456\n",
       "metadata_metadata_annots_score_SUM             3456\n",
       "metadata_metadata_colors_score_MEAN            3456\n",
       "metadata_metadata_colors_score_SUM             3456\n",
       "metadata_metadata_colors_pixelFrac_MEAN        3456\n",
       "metadata_metadata_colors_pixelFrac_SUM         3456\n",
       "metadata_metadata_crop_conf_MEAN               3456\n",
       "metadata_metadata_crop_conf_SUM                3456\n",
       "metadata_metadata_crop_importance_MEAN         3456\n",
       "metadata_metadata_crop_importance_SUM          3456\n",
       "main_breed_Type                                   0\n",
       "main_breed_BreedName                              0\n",
       "second_breed_Type                              3078\n",
       "second_breed_BreedName                            0\n",
       "RescuerID_COUNT                                   0\n",
       "SVD_Description_0                                 0\n",
       "SVD_Description_1                                 0\n",
       "SVD_Description_2                                 0\n",
       "SVD_Description_3                                 0\n",
       "SVD_Description_4                                 0\n",
       "NMF_Description_0                                 0\n",
       "NMF_Description_1                                 0\n",
       "NMF_Description_2                                 0\n",
       "NMF_Description_3                                 0\n",
       "NMF_Description_4                                 0\n",
       "SVD_metadata_annots_top_desc_0                    0\n",
       "SVD_metadata_annots_top_desc_1                    0\n",
       "SVD_metadata_annots_top_desc_2                    0\n",
       "SVD_metadata_annots_top_desc_3                    0\n",
       "SVD_metadata_annots_top_desc_4                    0\n",
       "NMF_metadata_annots_top_desc_0                    0\n",
       "NMF_metadata_annots_top_desc_1                    0\n",
       "NMF_metadata_annots_top_desc_2                    0\n",
       "NMF_metadata_annots_top_desc_3                    0\n",
       "NMF_metadata_annots_top_desc_4                    0\n",
       "SVD_sentiment_entities_0                          0\n",
       "SVD_sentiment_entities_1                          0\n",
       "SVD_sentiment_entities_2                          0\n",
       "SVD_sentiment_entities_3                          0\n",
       "SVD_sentiment_entities_4                          0\n",
       "NMF_sentiment_entities_0                          0\n",
       "NMF_sentiment_entities_1                          0\n",
       "NMF_sentiment_entities_2                          0\n",
       "NMF_sentiment_entities_3                          0\n",
       "NMF_sentiment_entities_4                          0\n",
       "dtype: int64"
      ]
     },
     "execution_count": 55,
     "metadata": {},
     "output_type": "execute_result"
    }
   ],
   "source": [
    "np.sum(pd.isnull(X_test))"
   ]
  },
  {
   "cell_type": "markdown",
   "metadata": {},
   "source": [
    "model training:"
   ]
  },
  {
   "cell_type": "code",
   "execution_count": 57,
   "metadata": {},
   "outputs": [],
   "source": [
    "import scipy as sp\n",
    "\n",
    "from collections import Counter\n",
    "from functools import partial\n",
    "from math import sqrt\n",
    "\n",
    "from sklearn.metrics import cohen_kappa_score, mean_squared_error\n",
    "from sklearn.metrics import confusion_matrix as sk_cmatrix\n",
    "\n",
    "\n",
    "def confusion_matrix(rater_a, rater_b, min_rating=None, max_rating=None):\n",
    "    \"\"\"\n",
    "    Returns the confusion matrix between rater's ratings\n",
    "    \"\"\"\n",
    "    assert(len(rater_a) == len(rater_b))\n",
    "    if min_rating is None:\n",
    "        min_rating = min(rater_a + rater_b)\n",
    "    if max_rating is None:\n",
    "        max_rating = max(rater_a + rater_b)\n",
    "    num_ratings = int(max_rating - min_rating + 1)\n",
    "    conf_mat = [[0 for i in range(num_ratings)]\n",
    "                for j in range(num_ratings)]\n",
    "    for a, b in zip(rater_a, rater_b):\n",
    "        conf_mat[a - min_rating][b - min_rating] += 1\n",
    "    return conf_mat\n",
    "\n",
    "\n",
    "def histogram(ratings, min_rating=None, max_rating=None):\n",
    "    \"\"\"\n",
    "    Returns the counts of each type of rating that a rater made\n",
    "    \"\"\"\n",
    "    if min_rating is None:\n",
    "        min_rating = min(ratings)\n",
    "    if max_rating is None:\n",
    "        max_rating = max(ratings)\n",
    "    num_ratings = int(max_rating - min_rating + 1)\n",
    "    hist_ratings = [0 for x in range(num_ratings)]\n",
    "    for r in ratings:\n",
    "        hist_ratings[r - min_rating] += 1\n",
    "    return hist_ratings\n",
    "\n",
    "def quadratic_weighted_kappa(y, y_pred):\n",
    "    \"\"\"\n",
    "    Calculates the quadratic weighted kappa\n",
    "    axquadratic_weighted_kappa calculates the quadratic weighted kappa\n",
    "    value, which is a measure of inter-rater agreement between two raters\n",
    "    that provide discrete numeric ratings.  Potential values range from -1\n",
    "    (representing complete disagreement) to 1 (representing complete\n",
    "    agreement).  A kappa value of 0 is expected if all agreement is due to\n",
    "    chance.\n",
    "    quadratic_weighted_kappa(rater_a, rater_b), where rater_a and rater_b\n",
    "    each correspond to a list of integer ratings.  These lists must have the\n",
    "    same length.\n",
    "    The ratings should be integers, and it is assumed that they contain\n",
    "    the complete range of possible ratings.\n",
    "    quadratic_weighted_kappa(X, min_rating, max_rating), where min_rating\n",
    "    is the minimum possible rating, and max_rating is the maximum possible\n",
    "    rating\n",
    "    \"\"\"\n",
    "    rater_a = y\n",
    "    rater_b = y_pred\n",
    "    min_rating=None\n",
    "    max_rating=None\n",
    "    rater_a = np.array(rater_a, dtype=int)\n",
    "    rater_b = np.array(rater_b, dtype=int)\n",
    "    assert(len(rater_a) == len(rater_b))\n",
    "    if min_rating is None:\n",
    "        min_rating = min(min(rater_a), min(rater_b))\n",
    "    if max_rating is None:\n",
    "        max_rating = max(max(rater_a), max(rater_b))\n",
    "    conf_mat = confusion_matrix(rater_a, rater_b,\n",
    "                                min_rating, max_rating)\n",
    "    num_ratings = len(conf_mat)\n",
    "    num_scored_items = float(len(rater_a))\n",
    "\n",
    "    hist_rater_a = histogram(rater_a, min_rating, max_rating)\n",
    "    hist_rater_b = histogram(rater_b, min_rating, max_rating)\n",
    "\n",
    "    numerator = 0.0\n",
    "    denominator = 0.0\n",
    "\n",
    "    for i in range(num_ratings):\n",
    "        for j in range(num_ratings):\n",
    "            expected_count = (hist_rater_a[i] * hist_rater_b[j]\n",
    "                              / num_scored_items)\n",
    "            d = pow(i - j, 2.0) / pow(num_ratings - 1, 2.0)\n",
    "            numerator += d * conf_mat[i][j] / num_scored_items\n",
    "            denominator += d * expected_count / num_scored_items\n",
    "\n",
    "    return (1.0 - numerator / denominator)\n",
    "\n",
    "class OptimizedRounder(object):\n",
    "    def __init__(self):\n",
    "        self.coef_ = 0\n",
    "\n",
    "    def _kappa_loss(self, coef, X, y):\n",
    "        X_p = np.copy(X)\n",
    "        for i, pred in enumerate(X_p):\n",
    "            if pred < coef[0]:\n",
    "                X_p[i] = 0\n",
    "            elif pred >= coef[0] and pred < coef[1]:\n",
    "                X_p[i] = 1\n",
    "            elif pred >= coef[1] and pred < coef[2]:\n",
    "                X_p[i] = 2\n",
    "            elif pred >= coef[2] and pred < coef[3]:\n",
    "                X_p[i] = 3\n",
    "            else:\n",
    "                X_p[i] = 4\n",
    "\n",
    "        ll = quadratic_weighted_kappa(y, X_p)\n",
    "        return -ll\n",
    "\n",
    "    \n",
    "    def fit(self, X, y):\n",
    "        loss_partial = partial(self._kappa_loss, X=X, y=y)\n",
    "        initial_coef = [0.5, 1.5, 2.5, 3.5]\n",
    "        self.coef_ = sp.optimize.minimize(loss_partial, initial_coef, method='nelder-mead')\n",
    "        \n",
    "        \n",
    "    def predict(self, X, coef):\n",
    "        X_p = np.copy(X)\n",
    "        for i, pred in enumerate(X_p):\n",
    "            if pred < coef[0]:\n",
    "                X_p[i] = 0\n",
    "            elif pred >= coef[0] and pred < coef[1]:\n",
    "                X_p[i] = 1\n",
    "            elif pred >= coef[1] and pred < coef[2]:\n",
    "                X_p[i] = 2\n",
    "            elif pred >= coef[2] and pred < coef[3]:\n",
    "                X_p[i] = 3\n",
    "            else:\n",
    "                X_p[i] = 4\n",
    "        return X_p\n",
    "\n",
    "    \n",
    "    def coefficients(self):\n",
    "        return self.coef_['x']\n",
    "    \n",
    "    \n",
    "def rmse(actual, predicted):\n",
    "    return sqrt(mean_squared_error(actual, predicted))"
   ]
  },
  {
   "cell_type": "code",
   "execution_count": null,
   "metadata": {},
   "outputs": [],
   "source": [
    "import lightgbm as lgb\n",
    "\n",
    "params = {'application': 'regression',\n",
    "          'boosting': 'gbdt',\n",
    "          'metric': 'rmse',\n",
    "          'num_leaves': 70,\n",
    "          'max_depth': 9,\n",
    "          'learning_rate': 0.01,\n",
    "          'bagging_fraction': 0.85,\n",
    "          'feature_fraction': 0.8,\n",
    "          'min_split_gain': 0.02,\n",
    "          'min_child_samples': 150,\n",
    "          'min_child_weight': 0.02,\n",
    "          'lambda_l2': 0.0475,\n",
    "          'verbosity': -1,\n",
    "          'data_random_seed': 17}\n",
    "\n",
    "# Additional parameters:\n",
    "early_stop = 500\n",
    "verbose_eval = 100\n",
    "num_rounds = 10000\n",
    "n_splits = 5"
   ]
  },
  {
   "cell_type": "code",
   "execution_count": null,
   "metadata": {},
   "outputs": [],
   "source": [
    "from sklearn.model_selection import StratifiedKFold\n",
    "\n",
    "\n",
    "kfold = StratifiedKFold(n_splits=n_splits, random_state=1337)\n",
    "\n",
    "\n",
    "oof_train = np.zeros((X_train.shape[0]))\n",
    "oof_test = np.zeros((X_test.shape[0], n_splits))\n",
    "\n",
    "\n",
    "i = 0\n",
    "for train_index, valid_index in kfold.split(X_train, X_train['AdoptionSpeed'].values):\n",
    "    \n",
    "    X_tr = X_train.iloc[train_index, :]\n",
    "    X_val = X_train.iloc[valid_index, :]\n",
    "    \n",
    "    y_tr = X_tr['AdoptionSpeed'].values\n",
    "    X_tr = X_tr.drop(['AdoptionSpeed'], axis=1)\n",
    "    \n",
    "    y_val = X_val['AdoptionSpeed'].values\n",
    "    X_val = X_val.drop(['AdoptionSpeed'], axis=1)\n",
    "    \n",
    "    print('\\ny_tr distribution: {}'.format(Counter(y_tr)))\n",
    "    \n",
    "    d_train = lgb.Dataset(X_tr, label=y_tr)\n",
    "    d_valid = lgb.Dataset(X_val, label=y_val)\n",
    "    watchlist = [d_train, d_valid]\n",
    "    \n",
    "    print('training LGB:')\n",
    "    model = lgb.train(params,\n",
    "                      train_set=d_train,\n",
    "                      num_boost_round=num_rounds,\n",
    "                      valid_sets=watchlist,\n",
    "                      verbose_eval=verbose_eval,\n",
    "                      early_stopping_rounds=early_stop)\n",
    "    \n",
    "    val_pred = model.predict(X_val, num_iteration=model.best_iteration)\n",
    "    test_pred = model.predict(X_test, num_iteration=model.best_iteration)\n",
    "    \n",
    "    oof_train[valid_index] = val_pred\n",
    "    oof_test[:, i] = test_pred\n",
    "    \n",
    "    i += 1"
   ]
  },
  {
   "cell_type": "code",
   "execution_count": null,
   "metadata": {},
   "outputs": [],
   "source": [
    "plt.hist(oof_train)"
   ]
  },
  {
   "cell_type": "code",
   "execution_count": null,
   "metadata": {},
   "outputs": [],
   "source": [
    "# Compute QWK based on OOF train predictions:\n",
    "optR = OptimizedRounder()\n",
    "optR.fit(oof_train, X_train['AdoptionSpeed'].values)\n",
    "coefficients = optR.coefficients()\n",
    "pred_test_y_k = optR.predict(oof_train, coefficients)\n",
    "print(\"\\nValid Counts = \", Counter(X_train['AdoptionSpeed'].values))\n",
    "print(\"Predicted Counts = \", Counter(pred_test_y_k))\n",
    "print(\"Coefficients = \", coefficients)\n",
    "qwk = quadratic_weighted_kappa(X_train['AdoptionSpeed'].values, pred_test_y_k)\n",
    "print(\"QWK = \", qwk)\n",
    "\n"
   ]
  },
  {
   "cell_type": "code",
   "execution_count": null,
   "metadata": {},
   "outputs": [],
   "source": [
    "# Manually adjusted coefficients:\n",
    "\n",
    "coefficients_ = coefficients.copy()\n",
    "\n",
    "coefficients_[0] = 1.645\n",
    "coefficients_[1] = 2.115\n",
    "coefficients_[3] = 2.84\n",
    "\n",
    "train_predictions = optR.predict(oof_train, coefficients_).astype(int)\n",
    "print('train pred distribution: {}'.format(Counter(train_predictions)))\n",
    "\n",
    "test_predictions = optR.predict(oof_test.mean(axis=1), coefficients_)\n",
    "print('test pred distribution: {}'.format(Counter(test_predictions)))"
   ]
  },
  {
   "cell_type": "code",
   "execution_count": null,
   "metadata": {},
   "outputs": [],
   "source": [
    "# Distribution inspection of original target and predicted train and test:\n",
    "\n",
    "print(\"True Distribution:\")\n",
    "print(pd.value_counts(X_train['AdoptionSpeed'], normalize=True).sort_index())\n",
    "print(\"\\nTrain Predicted Distribution:\")\n",
    "print(pd.value_counts(train_predictions, normalize=True).sort_index())\n",
    "print(\"\\nTest Predicted Distribution:\")\n",
    "print(pd.value_counts(test_predictions, normalize=True).sort_index())\n",
    "\n"
   ]
  },
  {
   "cell_type": "markdown",
   "metadata": {},
   "source": [
    "###################################################################################"
   ]
  },
  {
   "cell_type": "code",
   "execution_count": null,
   "metadata": {},
   "outputs": [],
   "source": [
    "#### Start from here Start Start start begin beginning continue"
   ]
  },
  {
   "cell_type": "code",
   "execution_count": null,
   "metadata": {},
   "outputs": [],
   "source": [
    "# Generate submission:\n",
    "\n",
    "submission = pd.DataFrame({'PetID': test['PetID'].values, 'AdoptionSpeed': test_predictions.astype(np.int32)})\n",
    "submission.head()\n",
    "submission.to_csv('submission.csv', index=False)"
   ]
  },
  {
   "cell_type": "code",
   "execution_count": 175,
   "metadata": {},
   "outputs": [
    {
     "data": {
      "text/html": [
       "<div>\n",
       "<style scoped>\n",
       "    .dataframe tbody tr th:only-of-type {\n",
       "        vertical-align: middle;\n",
       "    }\n",
       "\n",
       "    .dataframe tbody tr th {\n",
       "        vertical-align: top;\n",
       "    }\n",
       "\n",
       "    .dataframe thead tr th {\n",
       "        text-align: left;\n",
       "    }\n",
       "\n",
       "    .dataframe thead tr:last-of-type th {\n",
       "        text-align: right;\n",
       "    }\n",
       "</style>\n",
       "<table border=\"1\" class=\"dataframe\">\n",
       "  <thead>\n",
       "    <tr>\n",
       "      <th></th>\n",
       "      <th colspan=\"2\" halign=\"left\">metadata_annots_score</th>\n",
       "      <th colspan=\"2\" halign=\"left\">metadata_colors_score</th>\n",
       "      <th colspan=\"2\" halign=\"left\">metadata_colors_pixelFrac</th>\n",
       "      <th colspan=\"2\" halign=\"left\">metadata_crop_conf</th>\n",
       "      <th colspan=\"2\" halign=\"left\">metadata_crop_importance</th>\n",
       "    </tr>\n",
       "    <tr>\n",
       "      <th></th>\n",
       "      <th>mean</th>\n",
       "      <th>sum</th>\n",
       "      <th>mean</th>\n",
       "      <th>sum</th>\n",
       "      <th>mean</th>\n",
       "      <th>sum</th>\n",
       "      <th>mean</th>\n",
       "      <th>sum</th>\n",
       "      <th>mean</th>\n",
       "      <th>sum</th>\n",
       "    </tr>\n",
       "    <tr>\n",
       "      <th>PetID</th>\n",
       "      <th></th>\n",
       "      <th></th>\n",
       "      <th></th>\n",
       "      <th></th>\n",
       "      <th></th>\n",
       "      <th></th>\n",
       "      <th></th>\n",
       "      <th></th>\n",
       "      <th></th>\n",
       "      <th></th>\n",
       "    </tr>\n",
       "  </thead>\n",
       "  <tbody>\n",
       "    <tr>\n",
       "      <th>0052dcf47</th>\n",
       "      <td>0.938122</td>\n",
       "      <td>2.814365</td>\n",
       "      <td>0.087819</td>\n",
       "      <td>0.263457</td>\n",
       "      <td>0.060522</td>\n",
       "      <td>0.181565</td>\n",
       "      <td>0.8</td>\n",
       "      <td>2.4</td>\n",
       "      <td>1.0</td>\n",
       "      <td>3.0</td>\n",
       "    </tr>\n",
       "    <tr>\n",
       "      <th>00a1f270a</th>\n",
       "      <td>0.944613</td>\n",
       "      <td>4.723066</td>\n",
       "      <td>0.095528</td>\n",
       "      <td>0.477641</td>\n",
       "      <td>0.066992</td>\n",
       "      <td>0.334961</td>\n",
       "      <td>0.8</td>\n",
       "      <td>4.0</td>\n",
       "      <td>1.0</td>\n",
       "      <td>5.0</td>\n",
       "    </tr>\n",
       "    <tr>\n",
       "      <th>015c75c9e</th>\n",
       "      <td>0.934615</td>\n",
       "      <td>2.803844</td>\n",
       "      <td>0.060296</td>\n",
       "      <td>0.180887</td>\n",
       "      <td>0.033252</td>\n",
       "      <td>0.099756</td>\n",
       "      <td>0.8</td>\n",
       "      <td>2.4</td>\n",
       "      <td>1.0</td>\n",
       "      <td>3.0</td>\n",
       "    </tr>\n",
       "    <tr>\n",
       "      <th>0162634c2</th>\n",
       "      <td>0.934370</td>\n",
       "      <td>2.803109</td>\n",
       "      <td>0.088806</td>\n",
       "      <td>0.266418</td>\n",
       "      <td>0.059992</td>\n",
       "      <td>0.179977</td>\n",
       "      <td>0.8</td>\n",
       "      <td>2.4</td>\n",
       "      <td>1.0</td>\n",
       "      <td>3.0</td>\n",
       "    </tr>\n",
       "    <tr>\n",
       "      <th>01ba4e94d</th>\n",
       "      <td>0.992804</td>\n",
       "      <td>0.992804</td>\n",
       "      <td>0.069252</td>\n",
       "      <td>0.069252</td>\n",
       "      <td>0.023777</td>\n",
       "      <td>0.023777</td>\n",
       "      <td>0.8</td>\n",
       "      <td>0.8</td>\n",
       "      <td>1.0</td>\n",
       "      <td>1.0</td>\n",
       "    </tr>\n",
       "  </tbody>\n",
       "</table>\n",
       "</div>"
      ],
      "text/plain": [
       "          metadata_annots_score           metadata_colors_score            \\\n",
       "                           mean       sum                  mean       sum   \n",
       "PetID                                                                       \n",
       "0052dcf47              0.938122  2.814365              0.087819  0.263457   \n",
       "00a1f270a              0.944613  4.723066              0.095528  0.477641   \n",
       "015c75c9e              0.934615  2.803844              0.060296  0.180887   \n",
       "0162634c2              0.934370  2.803109              0.088806  0.266418   \n",
       "01ba4e94d              0.992804  0.992804              0.069252  0.069252   \n",
       "\n",
       "          metadata_colors_pixelFrac           metadata_crop_conf       \\\n",
       "                               mean       sum               mean  sum   \n",
       "PetID                                                                   \n",
       "0052dcf47                  0.060522  0.181565                0.8  2.4   \n",
       "00a1f270a                  0.066992  0.334961                0.8  4.0   \n",
       "015c75c9e                  0.033252  0.099756                0.8  2.4   \n",
       "0162634c2                  0.059992  0.179977                0.8  2.4   \n",
       "01ba4e94d                  0.023777  0.023777                0.8  0.8   \n",
       "\n",
       "          metadata_crop_importance       \n",
       "                              mean  sum  \n",
       "PetID                                    \n",
       "0052dcf47                      1.0  3.0  \n",
       "00a1f270a                      1.0  5.0  \n",
       "015c75c9e                      1.0  3.0  \n",
       "0162634c2                      1.0  3.0  \n",
       "01ba4e94d                      1.0  1.0  "
      ]
     },
     "execution_count": 175,
     "metadata": {},
     "output_type": "execute_result"
    }
   ],
   "source": [
    "train_matadata_gr.head()"
   ]
  },
  {
   "cell_type": "code",
   "execution_count": 82,
   "metadata": {},
   "outputs": [
    {
     "data": {
      "text/html": [
       "<div>\n",
       "<style scoped>\n",
       "    .dataframe tbody tr th:only-of-type {\n",
       "        vertical-align: middle;\n",
       "    }\n",
       "\n",
       "    .dataframe tbody tr th {\n",
       "        vertical-align: top;\n",
       "    }\n",
       "\n",
       "    .dataframe thead th {\n",
       "        text-align: right;\n",
       "    }\n",
       "</style>\n",
       "<table border=\"1\" class=\"dataframe\">\n",
       "  <thead>\n",
       "    <tr style=\"text-align: right;\">\n",
       "      <th></th>\n",
       "      <th>metadata_annots_score</th>\n",
       "      <th>metadata_annots_top_desc</th>\n",
       "      <th>metadata_colors_score</th>\n",
       "      <th>metadata_colors_pixelFrac</th>\n",
       "      <th>metadata_crop_conf</th>\n",
       "      <th>metadata_crop_importance</th>\n",
       "      <th>PetID</th>\n",
       "    </tr>\n",
       "  </thead>\n",
       "  <tbody>\n",
       "    <tr>\n",
       "      <th>mean</th>\n",
       "      <td>0.940978</td>\n",
       "      <td>NaN</td>\n",
       "      <td>0.086139</td>\n",
       "      <td>0.066387</td>\n",
       "      <td>0.802077</td>\n",
       "      <td>1.002172</td>\n",
       "      <td>NaN</td>\n",
       "    </tr>\n",
       "    <tr>\n",
       "      <th>sum</th>\n",
       "      <td>3746.034541</td>\n",
       "      <td>cat black catcat whiskers small to medium size...</td>\n",
       "      <td>344.211896</td>\n",
       "      <td>265.280945</td>\n",
       "      <td>3205.099804</td>\n",
       "      <td>4004.679995</td>\n",
       "      <td>86e1089a36296e909a6296e909a3422e49063422e49063...</td>\n",
       "    </tr>\n",
       "  </tbody>\n",
       "</table>\n",
       "</div>"
      ],
      "text/plain": [
       "      metadata_annots_score  \\\n",
       "mean               0.940978   \n",
       "sum             3746.034541   \n",
       "\n",
       "                               metadata_annots_top_desc  \\\n",
       "mean                                                NaN   \n",
       "sum   cat black catcat whiskers small to medium size...   \n",
       "\n",
       "      metadata_colors_score  metadata_colors_pixelFrac  metadata_crop_conf  \\\n",
       "mean               0.086139                   0.066387            0.802077   \n",
       "sum              344.211896                 265.280945         3205.099804   \n",
       "\n",
       "      metadata_crop_importance  \\\n",
       "mean                  1.002172   \n",
       "sum                4004.679995   \n",
       "\n",
       "                                                  PetID  \n",
       "mean                                                NaN  \n",
       "sum   86e1089a36296e909a6296e909a3422e49063422e49063...  "
      ]
     },
     "execution_count": 82,
     "metadata": {},
     "output_type": "execute_result"
    }
   ],
   "source": [
    "train_dfs_metadata.agg(['mean', 'sum'])"
   ]
  },
  {
   "cell_type": "code",
   "execution_count": 154,
   "metadata": {},
   "outputs": [],
   "source": [
    "abcd = train_dfs_metadata.groupby(['PetID'])['metadata_annots_top_desc'].unique().reset_index()"
   ]
  },
  {
   "cell_type": "code",
   "execution_count": 156,
   "metadata": {},
   "outputs": [
    {
     "data": {
      "text/html": [
       "<div>\n",
       "<style scoped>\n",
       "    .dataframe tbody tr th:only-of-type {\n",
       "        vertical-align: middle;\n",
       "    }\n",
       "\n",
       "    .dataframe tbody tr th {\n",
       "        vertical-align: top;\n",
       "    }\n",
       "\n",
       "    .dataframe thead th {\n",
       "        text-align: right;\n",
       "    }\n",
       "</style>\n",
       "<table border=\"1\" class=\"dataframe\">\n",
       "  <thead>\n",
       "    <tr style=\"text-align: right;\">\n",
       "      <th></th>\n",
       "      <th>PetID</th>\n",
       "      <th>metadata_annots_top_desc</th>\n",
       "    </tr>\n",
       "  </thead>\n",
       "  <tbody>\n",
       "    <tr>\n",
       "      <th>0</th>\n",
       "      <td>0052dcf47</td>\n",
       "      <td>[dog breed dog dog like mammal, dog dog like m...</td>\n",
       "    </tr>\n",
       "    <tr>\n",
       "      <th>1</th>\n",
       "      <td>00a1f270a</td>\n",
       "      <td>[cat small to medium sized cats cat like mamma...</td>\n",
       "    </tr>\n",
       "    <tr>\n",
       "      <th>2</th>\n",
       "      <td>015c75c9e</td>\n",
       "      <td>[dog dog breed dog like mammal, dog dog like m...</td>\n",
       "    </tr>\n",
       "    <tr>\n",
       "      <th>3</th>\n",
       "      <td>0162634c2</td>\n",
       "      <td>[cat whiskers small to medium sized cats, dog ...</td>\n",
       "    </tr>\n",
       "    <tr>\n",
       "      <th>4</th>\n",
       "      <td>01ba4e94d</td>\n",
       "      <td>[cat]</td>\n",
       "    </tr>\n",
       "  </tbody>\n",
       "</table>\n",
       "</div>"
      ],
      "text/plain": [
       "       PetID                           metadata_annots_top_desc\n",
       "0  0052dcf47  [dog breed dog dog like mammal, dog dog like m...\n",
       "1  00a1f270a  [cat small to medium sized cats cat like mamma...\n",
       "2  015c75c9e  [dog dog breed dog like mammal, dog dog like m...\n",
       "3  0162634c2  [cat whiskers small to medium sized cats, dog ...\n",
       "4  01ba4e94d                                              [cat]"
      ]
     },
     "execution_count": 156,
     "metadata": {},
     "output_type": "execute_result"
    }
   ],
   "source": [
    "abcd.head()"
   ]
  },
  {
   "cell_type": "code",
   "execution_count": 157,
   "metadata": {},
   "outputs": [
    {
     "data": {
      "text/plain": [
       "array(['dog breed dog dog like mammal', 'dog dog like mammal dog breed',\n",
       "       'dog dog breed dog like mammal'], dtype=object)"
      ]
     },
     "execution_count": 157,
     "metadata": {},
     "output_type": "execute_result"
    }
   ],
   "source": [
    "abcd['metadata_annots_top_desc'][0]"
   ]
  },
  {
   "cell_type": "code",
   "execution_count": 158,
   "metadata": {},
   "outputs": [],
   "source": [
    "abcd\n",
    "\n",
    "abcd[\n",
    "    'metadata_annots_top_desc'] = abcd[\n",
    "    'metadata_annots_top_desc'].apply(lambda x: ' '.join(x))"
   ]
  },
  {
   "cell_type": "code",
   "execution_count": 159,
   "metadata": {},
   "outputs": [
    {
     "data": {
      "text/html": [
       "<div>\n",
       "<style scoped>\n",
       "    .dataframe tbody tr th:only-of-type {\n",
       "        vertical-align: middle;\n",
       "    }\n",
       "\n",
       "    .dataframe tbody tr th {\n",
       "        vertical-align: top;\n",
       "    }\n",
       "\n",
       "    .dataframe thead th {\n",
       "        text-align: right;\n",
       "    }\n",
       "</style>\n",
       "<table border=\"1\" class=\"dataframe\">\n",
       "  <thead>\n",
       "    <tr style=\"text-align: right;\">\n",
       "      <th></th>\n",
       "      <th>PetID</th>\n",
       "      <th>metadata_annots_top_desc</th>\n",
       "    </tr>\n",
       "  </thead>\n",
       "  <tbody>\n",
       "    <tr>\n",
       "      <th>0</th>\n",
       "      <td>0052dcf47</td>\n",
       "      <td>dog breed dog dog like mammal dog dog like mam...</td>\n",
       "    </tr>\n",
       "    <tr>\n",
       "      <th>1</th>\n",
       "      <td>00a1f270a</td>\n",
       "      <td>cat small to medium sized cats cat like mammal...</td>\n",
       "    </tr>\n",
       "    <tr>\n",
       "      <th>2</th>\n",
       "      <td>015c75c9e</td>\n",
       "      <td>dog dog breed dog like mammal dog dog like mam...</td>\n",
       "    </tr>\n",
       "    <tr>\n",
       "      <th>3</th>\n",
       "      <td>0162634c2</td>\n",
       "      <td>cat whiskers small to medium sized cats dog br...</td>\n",
       "    </tr>\n",
       "    <tr>\n",
       "      <th>4</th>\n",
       "      <td>01ba4e94d</td>\n",
       "      <td>cat</td>\n",
       "    </tr>\n",
       "    <tr>\n",
       "      <th>5</th>\n",
       "      <td>022d2d16e</td>\n",
       "      <td>cat dragon li mammal</td>\n",
       "    </tr>\n",
       "    <tr>\n",
       "      <th>6</th>\n",
       "      <td>026ebf139</td>\n",
       "      <td>dog dog breed dog like mammal</td>\n",
       "    </tr>\n",
       "    <tr>\n",
       "      <th>7</th>\n",
       "      <td>02d6020a9</td>\n",
       "      <td>dog dog breed dog like mammal dog dog like mam...</td>\n",
       "    </tr>\n",
       "    <tr>\n",
       "      <th>8</th>\n",
       "      <td>0392c0c81</td>\n",
       "      <td>dog breed group fauna dog like mammal dog bree...</td>\n",
       "    </tr>\n",
       "    <tr>\n",
       "      <th>9</th>\n",
       "      <td>039509c40</td>\n",
       "      <td>dog dog like mammal dog breed dog like mammal ...</td>\n",
       "    </tr>\n",
       "    <tr>\n",
       "      <th>10</th>\n",
       "      <td>03b0568b3</td>\n",
       "      <td>dog dog like mammal dog breed dog like mammal ...</td>\n",
       "    </tr>\n",
       "    <tr>\n",
       "      <th>11</th>\n",
       "      <td>03d59fc21</td>\n",
       "      <td>cat small to medium sized cats fauna cat small...</td>\n",
       "    </tr>\n",
       "    <tr>\n",
       "      <th>12</th>\n",
       "      <td>0443d6f82</td>\n",
       "      <td>dog dog like mammal dog dog like mammal dog breed</td>\n",
       "    </tr>\n",
       "    <tr>\n",
       "      <th>13</th>\n",
       "      <td>044548f89</td>\n",
       "      <td>cat small to medium sized cats cat like mammal...</td>\n",
       "    </tr>\n",
       "    <tr>\n",
       "      <th>14</th>\n",
       "      <td>045543730</td>\n",
       "      <td>dog breed dog street dog dog dog like mammal d...</td>\n",
       "    </tr>\n",
       "    <tr>\n",
       "      <th>15</th>\n",
       "      <td>05252b175</td>\n",
       "      <td>cat small to medium sized cats cat like mammal...</td>\n",
       "    </tr>\n",
       "    <tr>\n",
       "      <th>16</th>\n",
       "      <td>052b0ada8</td>\n",
       "      <td>dog breed dog dog breed group dog dog breed do...</td>\n",
       "    </tr>\n",
       "    <tr>\n",
       "      <th>17</th>\n",
       "      <td>056437112</td>\n",
       "      <td>dog dog like mammal dog breed</td>\n",
       "    </tr>\n",
       "    <tr>\n",
       "      <th>18</th>\n",
       "      <td>056cc22d2</td>\n",
       "      <td>dog dog breed dog breed group</td>\n",
       "    </tr>\n",
       "    <tr>\n",
       "      <th>19</th>\n",
       "      <td>05935bf08</td>\n",
       "      <td>cat fauna cat mammal small to medium sized cat...</td>\n",
       "    </tr>\n",
       "    <tr>\n",
       "      <th>20</th>\n",
       "      <td>05f99fc56</td>\n",
       "      <td>dog dog like mammal dog breed dog dog dog bree...</td>\n",
       "    </tr>\n",
       "    <tr>\n",
       "      <th>21</th>\n",
       "      <td>061378b30</td>\n",
       "      <td>dog dog breed dog dog like mammal dog breed</td>\n",
       "    </tr>\n",
       "    <tr>\n",
       "      <th>22</th>\n",
       "      <td>06296e4e2</td>\n",
       "      <td>cat small to medium sized cats fauna cat face ...</td>\n",
       "    </tr>\n",
       "    <tr>\n",
       "      <th>23</th>\n",
       "      <td>0636650db</td>\n",
       "      <td>dog dog like mammal dog breed</td>\n",
       "    </tr>\n",
       "    <tr>\n",
       "      <th>24</th>\n",
       "      <td>0637293ec</td>\n",
       "      <td>cat skin small to medium sized cats cat small ...</td>\n",
       "    </tr>\n",
       "    <tr>\n",
       "      <th>25</th>\n",
       "      <td>06bf9e676</td>\n",
       "      <td>dog dog breed dog like mammal</td>\n",
       "    </tr>\n",
       "    <tr>\n",
       "      <th>26</th>\n",
       "      <td>06ecc204f</td>\n",
       "      <td>cat small to medium sized cats cat like mammal...</td>\n",
       "    </tr>\n",
       "    <tr>\n",
       "      <th>27</th>\n",
       "      <td>06f523361</td>\n",
       "      <td>cat small to medium sized cats cat like mammal</td>\n",
       "    </tr>\n",
       "    <tr>\n",
       "      <th>28</th>\n",
       "      <td>070faf086</td>\n",
       "      <td>dog dog breed dog dog breed dog like mammal do...</td>\n",
       "    </tr>\n",
       "    <tr>\n",
       "      <th>29</th>\n",
       "      <td>072ae6d9e</td>\n",
       "      <td>dog dog dog breed dog like mammal</td>\n",
       "    </tr>\n",
       "    <tr>\n",
       "      <th>30</th>\n",
       "      <td>0737e4f11</td>\n",
       "      <td>cat small to medium sized cats mammal cat mamm...</td>\n",
       "    </tr>\n",
       "    <tr>\n",
       "      <th>31</th>\n",
       "      <td>0822c54d5</td>\n",
       "      <td>dog dog like mammal dog breed dog dog like mam...</td>\n",
       "    </tr>\n",
       "    <tr>\n",
       "      <th>32</th>\n",
       "      <td>084874570</td>\n",
       "      <td>dog dog like mammal dog breed dog dog breed do...</td>\n",
       "    </tr>\n",
       "    <tr>\n",
       "      <th>33</th>\n",
       "      <td>084e4c05b</td>\n",
       "      <td>cat small to medium sized cats cat like mammal</td>\n",
       "    </tr>\n",
       "    <tr>\n",
       "      <th>34</th>\n",
       "      <td>09acd6b31</td>\n",
       "      <td>cat cat small to medium sized cats cat like ma...</td>\n",
       "    </tr>\n",
       "    <tr>\n",
       "      <th>35</th>\n",
       "      <td>09c629b05</td>\n",
       "      <td>cat small to medium sized cats whiskers cat sm...</td>\n",
       "    </tr>\n",
       "    <tr>\n",
       "      <th>36</th>\n",
       "      <td>0a8ee7520</td>\n",
       "      <td>cat small to medium sized cats cat like mammal...</td>\n",
       "    </tr>\n",
       "    <tr>\n",
       "      <th>37</th>\n",
       "      <td>0aaf6976a</td>\n",
       "      <td>cat small to medium sized cats cat like mammal...</td>\n",
       "    </tr>\n",
       "    <tr>\n",
       "      <th>38</th>\n",
       "      <td>0b01864e2</td>\n",
       "      <td>cat small to medium sized cats cat like mammal...</td>\n",
       "    </tr>\n",
       "    <tr>\n",
       "      <th>39</th>\n",
       "      <td>0b0f596b5</td>\n",
       "      <td>dog dog like mammal dog breed dog dog breed</td>\n",
       "    </tr>\n",
       "    <tr>\n",
       "      <th>40</th>\n",
       "      <td>0b4bb9906</td>\n",
       "      <td>cat small to medium sized cats cat small to me...</td>\n",
       "    </tr>\n",
       "    <tr>\n",
       "      <th>41</th>\n",
       "      <td>0b57ed86a</td>\n",
       "      <td>cat small to medium sized cats cat like mammal</td>\n",
       "    </tr>\n",
       "    <tr>\n",
       "      <th>42</th>\n",
       "      <td>0b59a57ff</td>\n",
       "      <td>cat whiskers small to medium sized cats cat sm...</td>\n",
       "    </tr>\n",
       "    <tr>\n",
       "      <th>43</th>\n",
       "      <td>0b819602d</td>\n",
       "      <td>cat small to medium sized cats cat like mammal...</td>\n",
       "    </tr>\n",
       "    <tr>\n",
       "      <th>44</th>\n",
       "      <td>0b8614414</td>\n",
       "      <td>dog dog like mammal dog breed dog dog breed do...</td>\n",
       "    </tr>\n",
       "    <tr>\n",
       "      <th>45</th>\n",
       "      <td>0b942f000</td>\n",
       "      <td>cat mammal small to medium sized cats</td>\n",
       "    </tr>\n",
       "    <tr>\n",
       "      <th>46</th>\n",
       "      <td>0baab7556</td>\n",
       "      <td>dog dog breed dog like mammal</td>\n",
       "    </tr>\n",
       "    <tr>\n",
       "      <th>47</th>\n",
       "      <td>0c17e1f32</td>\n",
       "      <td>cat small to medium sized cats cat like mammal...</td>\n",
       "    </tr>\n",
       "    <tr>\n",
       "      <th>48</th>\n",
       "      <td>0ce98d199</td>\n",
       "      <td>cat small to medium sized cats cat like mammal</td>\n",
       "    </tr>\n",
       "    <tr>\n",
       "      <th>49</th>\n",
       "      <td>0d25f084f</td>\n",
       "      <td>cat small to medium sized cats cat like mammal</td>\n",
       "    </tr>\n",
       "    <tr>\n",
       "      <th>50</th>\n",
       "      <td>0e4049f6d</td>\n",
       "      <td>dog dog breed dog like mammal dog like mammal ...</td>\n",
       "    </tr>\n",
       "    <tr>\n",
       "      <th>51</th>\n",
       "      <td>0e6dd5e23</td>\n",
       "      <td>dog like mammal dog breed dog</td>\n",
       "    </tr>\n",
       "    <tr>\n",
       "      <th>52</th>\n",
       "      <td>0e8c2a1aa</td>\n",
       "      <td>dog dog breed dog breed group dog breed dog do...</td>\n",
       "    </tr>\n",
       "    <tr>\n",
       "      <th>53</th>\n",
       "      <td>0eaa9f888</td>\n",
       "      <td>cat small to medium sized cats cat like mammal...</td>\n",
       "    </tr>\n",
       "    <tr>\n",
       "      <th>54</th>\n",
       "      <td>0eba8b0ad</td>\n",
       "      <td>cat small to medium sized cats cat like mammal</td>\n",
       "    </tr>\n",
       "    <tr>\n",
       "      <th>55</th>\n",
       "      <td>0f0f81a37</td>\n",
       "      <td>cat black cat small to medium sized cats cat b...</td>\n",
       "    </tr>\n",
       "    <tr>\n",
       "      <th>56</th>\n",
       "      <td>0f122f712</td>\n",
       "      <td>dog dog breed dog like mammal</td>\n",
       "    </tr>\n",
       "    <tr>\n",
       "      <th>57</th>\n",
       "      <td>0f24b6cd6</td>\n",
       "      <td>cat small to medium sized cats cat like mammal</td>\n",
       "    </tr>\n",
       "    <tr>\n",
       "      <th>58</th>\n",
       "      <td>0f3434f36</td>\n",
       "      <td>cat dragon li mammal cat small to medium sized...</td>\n",
       "    </tr>\n",
       "    <tr>\n",
       "      <th>59</th>\n",
       "      <td>0fb490c9b</td>\n",
       "      <td>dog dog breed dog like mammal dog breed dog br...</td>\n",
       "    </tr>\n",
       "    <tr>\n",
       "      <th>60</th>\n",
       "      <td>102482c40</td>\n",
       "      <td>dog like mammal dog breed dog like mammal dog</td>\n",
       "    </tr>\n",
       "    <tr>\n",
       "      <th>61</th>\n",
       "      <td>109c4f5a8</td>\n",
       "      <td>dog dog breed dog like mammal dog dog like mam...</td>\n",
       "    </tr>\n",
       "    <tr>\n",
       "      <th>62</th>\n",
       "      <td>10a6c97d5</td>\n",
       "      <td>cat dragon li mammal cat dragon li small to me...</td>\n",
       "    </tr>\n",
       "    <tr>\n",
       "      <th>63</th>\n",
       "      <td>1104fe6bb</td>\n",
       "      <td>cat small to medium sized cats cat like mammal...</td>\n",
       "    </tr>\n",
       "    <tr>\n",
       "      <th>...</th>\n",
       "      <td>...</td>\n",
       "      <td>...</td>\n",
       "    </tr>\n",
       "    <tr>\n",
       "      <th>906</th>\n",
       "      <td>eea72fce5</td>\n",
       "      <td>cat fauna small to medium sized cats</td>\n",
       "    </tr>\n",
       "    <tr>\n",
       "      <th>907</th>\n",
       "      <td>eeb60466e</td>\n",
       "      <td>dog breed dog dog breed group dog like mammal ...</td>\n",
       "    </tr>\n",
       "    <tr>\n",
       "      <th>908</th>\n",
       "      <td>eefb8d885</td>\n",
       "      <td>cat small to medium sized cats cat like mammal...</td>\n",
       "    </tr>\n",
       "    <tr>\n",
       "      <th>909</th>\n",
       "      <td>ef14861df</td>\n",
       "      <td>dog dog like mammal dog breed dog dog breed do...</td>\n",
       "    </tr>\n",
       "    <tr>\n",
       "      <th>910</th>\n",
       "      <td>efbf1703a</td>\n",
       "      <td>cat mammal yellow design</td>\n",
       "    </tr>\n",
       "    <tr>\n",
       "      <th>911</th>\n",
       "      <td>f03b04b1e</td>\n",
       "      <td>dog breed group fauna</td>\n",
       "    </tr>\n",
       "    <tr>\n",
       "      <th>912</th>\n",
       "      <td>f0885aa00</td>\n",
       "      <td>cat small to medium sized cats cat like mammal</td>\n",
       "    </tr>\n",
       "    <tr>\n",
       "      <th>913</th>\n",
       "      <td>f0a2122d4</td>\n",
       "      <td>dog dog breed dog dog breed dog breed group do...</td>\n",
       "    </tr>\n",
       "    <tr>\n",
       "      <th>914</th>\n",
       "      <td>f0ac69be1</td>\n",
       "      <td>cat small to medium sized cats mammal cat mamm...</td>\n",
       "    </tr>\n",
       "    <tr>\n",
       "      <th>915</th>\n",
       "      <td>f0bb05fc7</td>\n",
       "      <td>cat small to medium sized cats cat small to me...</td>\n",
       "    </tr>\n",
       "    <tr>\n",
       "      <th>916</th>\n",
       "      <td>f0ef9c777</td>\n",
       "      <td>dog dog breed</td>\n",
       "    </tr>\n",
       "    <tr>\n",
       "      <th>917</th>\n",
       "      <td>f17d4ab32</td>\n",
       "      <td>cat small to medium sized cats cat like mammal...</td>\n",
       "    </tr>\n",
       "    <tr>\n",
       "      <th>918</th>\n",
       "      <td>f195c540d</td>\n",
       "      <td>cat animal shelter small to medium sized cats ...</td>\n",
       "    </tr>\n",
       "    <tr>\n",
       "      <th>919</th>\n",
       "      <td>f24991ef7</td>\n",
       "      <td>cat small to medium sized cats floor dog like ...</td>\n",
       "    </tr>\n",
       "    <tr>\n",
       "      <th>920</th>\n",
       "      <td>f253bd6aa</td>\n",
       "      <td>cat small to medium sized cats cat small to me...</td>\n",
       "    </tr>\n",
       "    <tr>\n",
       "      <th>921</th>\n",
       "      <td>f2755d8bf</td>\n",
       "      <td>dog dog breed dog like mammal</td>\n",
       "    </tr>\n",
       "    <tr>\n",
       "      <th>922</th>\n",
       "      <td>f310c42f2</td>\n",
       "      <td>cat small to medium sized cats cat like mammal</td>\n",
       "    </tr>\n",
       "    <tr>\n",
       "      <th>923</th>\n",
       "      <td>f34d62be0</td>\n",
       "      <td>cat small to medium sized cats cat like mammal...</td>\n",
       "    </tr>\n",
       "    <tr>\n",
       "      <th>924</th>\n",
       "      <td>f39fef7c1</td>\n",
       "      <td>dog like mammal dog breed group dog breed cat ...</td>\n",
       "    </tr>\n",
       "    <tr>\n",
       "      <th>925</th>\n",
       "      <td>f3b4e3f5c</td>\n",
       "      <td>dog dog like mammal dog breed dog dog like mam...</td>\n",
       "    </tr>\n",
       "    <tr>\n",
       "      <th>926</th>\n",
       "      <td>f4415e636</td>\n",
       "      <td>dog breed mammal vertebrate dog like mammal do...</td>\n",
       "    </tr>\n",
       "    <tr>\n",
       "      <th>927</th>\n",
       "      <td>f4ed1a08e</td>\n",
       "      <td>cat fauna whiskers fauna cat</td>\n",
       "    </tr>\n",
       "    <tr>\n",
       "      <th>928</th>\n",
       "      <td>f4f349714</td>\n",
       "      <td>cat small to medium sized cats fauna</td>\n",
       "    </tr>\n",
       "    <tr>\n",
       "      <th>929</th>\n",
       "      <td>f62e604d6</td>\n",
       "      <td>cat dragon li small to medium sized cats cat f...</td>\n",
       "    </tr>\n",
       "    <tr>\n",
       "      <th>930</th>\n",
       "      <td>f6551137d</td>\n",
       "      <td>cat small to medium sized cats cat like mammal...</td>\n",
       "    </tr>\n",
       "    <tr>\n",
       "      <th>931</th>\n",
       "      <td>f70251906</td>\n",
       "      <td>dog breed dog grass dog breed dog breed dog do...</td>\n",
       "    </tr>\n",
       "    <tr>\n",
       "      <th>932</th>\n",
       "      <td>f7af4ce3d</td>\n",
       "      <td>dog dog like mammal dog breed</td>\n",
       "    </tr>\n",
       "    <tr>\n",
       "      <th>933</th>\n",
       "      <td>f8233b736</td>\n",
       "      <td>cat small to medium sized cats cat like mammal</td>\n",
       "    </tr>\n",
       "    <tr>\n",
       "      <th>934</th>\n",
       "      <td>f8b702182</td>\n",
       "      <td>cat black cat small to medium sized cats</td>\n",
       "    </tr>\n",
       "    <tr>\n",
       "      <th>935</th>\n",
       "      <td>f8d831236</td>\n",
       "      <td>cat black cat small to medium sized cats</td>\n",
       "    </tr>\n",
       "    <tr>\n",
       "      <th>936</th>\n",
       "      <td>f91147e5f</td>\n",
       "      <td>dog dog like mammal dog breed</td>\n",
       "    </tr>\n",
       "    <tr>\n",
       "      <th>937</th>\n",
       "      <td>f981112a8</td>\n",
       "      <td>dog dog like mammal dog dog like mammal dog br...</td>\n",
       "    </tr>\n",
       "    <tr>\n",
       "      <th>938</th>\n",
       "      <td>f98750599</td>\n",
       "      <td>dog dog like mammal dog breed</td>\n",
       "    </tr>\n",
       "    <tr>\n",
       "      <th>939</th>\n",
       "      <td>f9994fbae</td>\n",
       "      <td>cat fauna small to medium sized cats cat small...</td>\n",
       "    </tr>\n",
       "    <tr>\n",
       "      <th>940</th>\n",
       "      <td>f99a5e817</td>\n",
       "      <td>dog dog breed dog breed group</td>\n",
       "    </tr>\n",
       "    <tr>\n",
       "      <th>941</th>\n",
       "      <td>f9d07d5fa</td>\n",
       "      <td>dog breed dog</td>\n",
       "    </tr>\n",
       "    <tr>\n",
       "      <th>942</th>\n",
       "      <td>f9df8656a</td>\n",
       "      <td>cat small to medium sized cats cat like mammal...</td>\n",
       "    </tr>\n",
       "    <tr>\n",
       "      <th>943</th>\n",
       "      <td>fa07f7477</td>\n",
       "      <td>cat small to medium sized cats cat like mammal...</td>\n",
       "    </tr>\n",
       "    <tr>\n",
       "      <th>944</th>\n",
       "      <td>fa1a30192</td>\n",
       "      <td>dog dog breed dog breed group dog dog breed do...</td>\n",
       "    </tr>\n",
       "    <tr>\n",
       "      <th>945</th>\n",
       "      <td>fa94b21d1</td>\n",
       "      <td>cat small to medium sized cats mammal cat smal...</td>\n",
       "    </tr>\n",
       "    <tr>\n",
       "      <th>946</th>\n",
       "      <td>fb0180584</td>\n",
       "      <td>dog dog like mammal dog breed dog dog breed</td>\n",
       "    </tr>\n",
       "    <tr>\n",
       "      <th>947</th>\n",
       "      <td>fb3bd80d1</td>\n",
       "      <td>dog like mammal dog breed dog like mammal dog ...</td>\n",
       "    </tr>\n",
       "    <tr>\n",
       "      <th>948</th>\n",
       "      <td>fb9a96204</td>\n",
       "      <td>cat small to medium sized cats mammal cat smal...</td>\n",
       "    </tr>\n",
       "    <tr>\n",
       "      <th>949</th>\n",
       "      <td>fbaec0999</td>\n",
       "      <td>dog breed dog dog like mammal dog like mammal ...</td>\n",
       "    </tr>\n",
       "    <tr>\n",
       "      <th>950</th>\n",
       "      <td>fbb112b7e</td>\n",
       "      <td>dog dog breed dog breed group dog dog breed do...</td>\n",
       "    </tr>\n",
       "    <tr>\n",
       "      <th>951</th>\n",
       "      <td>fbed8fc1a</td>\n",
       "      <td>cat small to medium sized cats dragon li fauna...</td>\n",
       "    </tr>\n",
       "    <tr>\n",
       "      <th>952</th>\n",
       "      <td>fc1457818</td>\n",
       "      <td>cat small to medium sized cats mammal cat smal...</td>\n",
       "    </tr>\n",
       "    <tr>\n",
       "      <th>953</th>\n",
       "      <td>fc4b199fa</td>\n",
       "      <td>dog breed animal shelter dog breed group</td>\n",
       "    </tr>\n",
       "    <tr>\n",
       "      <th>954</th>\n",
       "      <td>fc5e81c00</td>\n",
       "      <td>cat small to medium sized cats cat like mammal...</td>\n",
       "    </tr>\n",
       "    <tr>\n",
       "      <th>955</th>\n",
       "      <td>fc9b4b692</td>\n",
       "      <td>dog dog breed dog dog breed dog breed group</td>\n",
       "    </tr>\n",
       "    <tr>\n",
       "      <th>956</th>\n",
       "      <td>fca85f778</td>\n",
       "      <td>dog dog like mammal dog breed</td>\n",
       "    </tr>\n",
       "    <tr>\n",
       "      <th>957</th>\n",
       "      <td>fcd21f3ec</td>\n",
       "      <td>cat small to medium sized cats cat like mammal...</td>\n",
       "    </tr>\n",
       "    <tr>\n",
       "      <th>958</th>\n",
       "      <td>fcf377cce</td>\n",
       "      <td>dog dog breed dog dog breed dog like mammal do...</td>\n",
       "    </tr>\n",
       "    <tr>\n",
       "      <th>959</th>\n",
       "      <td>fd279ad95</td>\n",
       "      <td>dog dog like mammal</td>\n",
       "    </tr>\n",
       "    <tr>\n",
       "      <th>960</th>\n",
       "      <td>fd3172797</td>\n",
       "      <td>dog breed dog dog dog breed dog dog breed dog ...</td>\n",
       "    </tr>\n",
       "    <tr>\n",
       "      <th>961</th>\n",
       "      <td>fd32ce3ef</td>\n",
       "      <td>dog dog breed dog like mammal</td>\n",
       "    </tr>\n",
       "    <tr>\n",
       "      <th>962</th>\n",
       "      <td>fd6c93d05</td>\n",
       "      <td>cat small to medium sized cats cat like mammal</td>\n",
       "    </tr>\n",
       "    <tr>\n",
       "      <th>963</th>\n",
       "      <td>fe3e235e0</td>\n",
       "      <td>cat small to medium sized cats cat like mammal...</td>\n",
       "    </tr>\n",
       "    <tr>\n",
       "      <th>964</th>\n",
       "      <td>fe88a5777</td>\n",
       "      <td>black mammal vertebrate cat black cat small to...</td>\n",
       "    </tr>\n",
       "    <tr>\n",
       "      <th>965</th>\n",
       "      <td>ff05d4438</td>\n",
       "      <td>dog dog breed dog breed group dog dog breed do...</td>\n",
       "    </tr>\n",
       "    <tr>\n",
       "      <th>966</th>\n",
       "      <td>ff125cf8d</td>\n",
       "      <td>dog dog like mammal dog breed</td>\n",
       "    </tr>\n",
       "    <tr>\n",
       "      <th>967</th>\n",
       "      <td>ff7ff0f3c</td>\n",
       "      <td>dog dog breed dog like mammal</td>\n",
       "    </tr>\n",
       "    <tr>\n",
       "      <th>968</th>\n",
       "      <td>ff9f62e79</td>\n",
       "      <td>cat face small to medium sized cats cat small ...</td>\n",
       "    </tr>\n",
       "    <tr>\n",
       "      <th>969</th>\n",
       "      <td>fff24fcb5</td>\n",
       "      <td>dog dog breed dog like mammal dog dog breed do...</td>\n",
       "    </tr>\n",
       "  </tbody>\n",
       "</table>\n",
       "<p>970 rows × 2 columns</p>\n",
       "</div>"
      ],
      "text/plain": [
       "         PetID                           metadata_annots_top_desc\n",
       "0    0052dcf47  dog breed dog dog like mammal dog dog like mam...\n",
       "1    00a1f270a  cat small to medium sized cats cat like mammal...\n",
       "2    015c75c9e  dog dog breed dog like mammal dog dog like mam...\n",
       "3    0162634c2  cat whiskers small to medium sized cats dog br...\n",
       "4    01ba4e94d                                                cat\n",
       "5    022d2d16e                               cat dragon li mammal\n",
       "6    026ebf139                      dog dog breed dog like mammal\n",
       "7    02d6020a9  dog dog breed dog like mammal dog dog like mam...\n",
       "8    0392c0c81  dog breed group fauna dog like mammal dog bree...\n",
       "9    039509c40  dog dog like mammal dog breed dog like mammal ...\n",
       "10   03b0568b3  dog dog like mammal dog breed dog like mammal ...\n",
       "11   03d59fc21  cat small to medium sized cats fauna cat small...\n",
       "12   0443d6f82  dog dog like mammal dog dog like mammal dog breed\n",
       "13   044548f89  cat small to medium sized cats cat like mammal...\n",
       "14   045543730  dog breed dog street dog dog dog like mammal d...\n",
       "15   05252b175  cat small to medium sized cats cat like mammal...\n",
       "16   052b0ada8  dog breed dog dog breed group dog dog breed do...\n",
       "17   056437112                      dog dog like mammal dog breed\n",
       "18   056cc22d2                      dog dog breed dog breed group\n",
       "19   05935bf08  cat fauna cat mammal small to medium sized cat...\n",
       "20   05f99fc56  dog dog like mammal dog breed dog dog dog bree...\n",
       "21   061378b30        dog dog breed dog dog like mammal dog breed\n",
       "22   06296e4e2  cat small to medium sized cats fauna cat face ...\n",
       "23   0636650db                      dog dog like mammal dog breed\n",
       "24   0637293ec  cat skin small to medium sized cats cat small ...\n",
       "25   06bf9e676                      dog dog breed dog like mammal\n",
       "26   06ecc204f  cat small to medium sized cats cat like mammal...\n",
       "27   06f523361     cat small to medium sized cats cat like mammal\n",
       "28   070faf086  dog dog breed dog dog breed dog like mammal do...\n",
       "29   072ae6d9e                  dog dog dog breed dog like mammal\n",
       "30   0737e4f11  cat small to medium sized cats mammal cat mamm...\n",
       "31   0822c54d5  dog dog like mammal dog breed dog dog like mam...\n",
       "32   084874570  dog dog like mammal dog breed dog dog breed do...\n",
       "33   084e4c05b     cat small to medium sized cats cat like mammal\n",
       "34   09acd6b31  cat cat small to medium sized cats cat like ma...\n",
       "35   09c629b05  cat small to medium sized cats whiskers cat sm...\n",
       "36   0a8ee7520  cat small to medium sized cats cat like mammal...\n",
       "37   0aaf6976a  cat small to medium sized cats cat like mammal...\n",
       "38   0b01864e2  cat small to medium sized cats cat like mammal...\n",
       "39   0b0f596b5        dog dog like mammal dog breed dog dog breed\n",
       "40   0b4bb9906  cat small to medium sized cats cat small to me...\n",
       "41   0b57ed86a     cat small to medium sized cats cat like mammal\n",
       "42   0b59a57ff  cat whiskers small to medium sized cats cat sm...\n",
       "43   0b819602d  cat small to medium sized cats cat like mammal...\n",
       "44   0b8614414  dog dog like mammal dog breed dog dog breed do...\n",
       "45   0b942f000              cat mammal small to medium sized cats\n",
       "46   0baab7556                      dog dog breed dog like mammal\n",
       "47   0c17e1f32  cat small to medium sized cats cat like mammal...\n",
       "48   0ce98d199     cat small to medium sized cats cat like mammal\n",
       "49   0d25f084f     cat small to medium sized cats cat like mammal\n",
       "50   0e4049f6d  dog dog breed dog like mammal dog like mammal ...\n",
       "51   0e6dd5e23                      dog like mammal dog breed dog\n",
       "52   0e8c2a1aa  dog dog breed dog breed group dog breed dog do...\n",
       "53   0eaa9f888  cat small to medium sized cats cat like mammal...\n",
       "54   0eba8b0ad     cat small to medium sized cats cat like mammal\n",
       "55   0f0f81a37  cat black cat small to medium sized cats cat b...\n",
       "56   0f122f712                      dog dog breed dog like mammal\n",
       "57   0f24b6cd6     cat small to medium sized cats cat like mammal\n",
       "58   0f3434f36  cat dragon li mammal cat small to medium sized...\n",
       "59   0fb490c9b  dog dog breed dog like mammal dog breed dog br...\n",
       "60   102482c40      dog like mammal dog breed dog like mammal dog\n",
       "61   109c4f5a8  dog dog breed dog like mammal dog dog like mam...\n",
       "62   10a6c97d5  cat dragon li mammal cat dragon li small to me...\n",
       "63   1104fe6bb  cat small to medium sized cats cat like mammal...\n",
       "..         ...                                                ...\n",
       "906  eea72fce5               cat fauna small to medium sized cats\n",
       "907  eeb60466e  dog breed dog dog breed group dog like mammal ...\n",
       "908  eefb8d885  cat small to medium sized cats cat like mammal...\n",
       "909  ef14861df  dog dog like mammal dog breed dog dog breed do...\n",
       "910  efbf1703a                           cat mammal yellow design\n",
       "911  f03b04b1e                              dog breed group fauna\n",
       "912  f0885aa00     cat small to medium sized cats cat like mammal\n",
       "913  f0a2122d4  dog dog breed dog dog breed dog breed group do...\n",
       "914  f0ac69be1  cat small to medium sized cats mammal cat mamm...\n",
       "915  f0bb05fc7  cat small to medium sized cats cat small to me...\n",
       "916  f0ef9c777                                      dog dog breed\n",
       "917  f17d4ab32  cat small to medium sized cats cat like mammal...\n",
       "918  f195c540d  cat animal shelter small to medium sized cats ...\n",
       "919  f24991ef7  cat small to medium sized cats floor dog like ...\n",
       "920  f253bd6aa  cat small to medium sized cats cat small to me...\n",
       "921  f2755d8bf                      dog dog breed dog like mammal\n",
       "922  f310c42f2     cat small to medium sized cats cat like mammal\n",
       "923  f34d62be0  cat small to medium sized cats cat like mammal...\n",
       "924  f39fef7c1  dog like mammal dog breed group dog breed cat ...\n",
       "925  f3b4e3f5c  dog dog like mammal dog breed dog dog like mam...\n",
       "926  f4415e636  dog breed mammal vertebrate dog like mammal do...\n",
       "927  f4ed1a08e                       cat fauna whiskers fauna cat\n",
       "928  f4f349714               cat small to medium sized cats fauna\n",
       "929  f62e604d6  cat dragon li small to medium sized cats cat f...\n",
       "930  f6551137d  cat small to medium sized cats cat like mammal...\n",
       "931  f70251906  dog breed dog grass dog breed dog breed dog do...\n",
       "932  f7af4ce3d                      dog dog like mammal dog breed\n",
       "933  f8233b736     cat small to medium sized cats cat like mammal\n",
       "934  f8b702182           cat black cat small to medium sized cats\n",
       "935  f8d831236           cat black cat small to medium sized cats\n",
       "936  f91147e5f                      dog dog like mammal dog breed\n",
       "937  f981112a8  dog dog like mammal dog dog like mammal dog br...\n",
       "938  f98750599                      dog dog like mammal dog breed\n",
       "939  f9994fbae  cat fauna small to medium sized cats cat small...\n",
       "940  f99a5e817                      dog dog breed dog breed group\n",
       "941  f9d07d5fa                                      dog breed dog\n",
       "942  f9df8656a  cat small to medium sized cats cat like mammal...\n",
       "943  fa07f7477  cat small to medium sized cats cat like mammal...\n",
       "944  fa1a30192  dog dog breed dog breed group dog dog breed do...\n",
       "945  fa94b21d1  cat small to medium sized cats mammal cat smal...\n",
       "946  fb0180584        dog dog like mammal dog breed dog dog breed\n",
       "947  fb3bd80d1  dog like mammal dog breed dog like mammal dog ...\n",
       "948  fb9a96204  cat small to medium sized cats mammal cat smal...\n",
       "949  fbaec0999  dog breed dog dog like mammal dog like mammal ...\n",
       "950  fbb112b7e  dog dog breed dog breed group dog dog breed do...\n",
       "951  fbed8fc1a  cat small to medium sized cats dragon li fauna...\n",
       "952  fc1457818  cat small to medium sized cats mammal cat smal...\n",
       "953  fc4b199fa           dog breed animal shelter dog breed group\n",
       "954  fc5e81c00  cat small to medium sized cats cat like mammal...\n",
       "955  fc9b4b692        dog dog breed dog dog breed dog breed group\n",
       "956  fca85f778                      dog dog like mammal dog breed\n",
       "957  fcd21f3ec  cat small to medium sized cats cat like mammal...\n",
       "958  fcf377cce  dog dog breed dog dog breed dog like mammal do...\n",
       "959  fd279ad95                                dog dog like mammal\n",
       "960  fd3172797  dog breed dog dog dog breed dog dog breed dog ...\n",
       "961  fd32ce3ef                      dog dog breed dog like mammal\n",
       "962  fd6c93d05     cat small to medium sized cats cat like mammal\n",
       "963  fe3e235e0  cat small to medium sized cats cat like mammal...\n",
       "964  fe88a5777  black mammal vertebrate cat black cat small to...\n",
       "965  ff05d4438  dog dog breed dog breed group dog dog breed do...\n",
       "966  ff125cf8d                      dog dog like mammal dog breed\n",
       "967  ff7ff0f3c                      dog dog breed dog like mammal\n",
       "968  ff9f62e79  cat face small to medium sized cats cat small ...\n",
       "969  fff24fcb5  dog dog breed dog like mammal dog dog breed do...\n",
       "\n",
       "[970 rows x 2 columns]"
      ]
     },
     "execution_count": 159,
     "metadata": {},
     "output_type": "execute_result"
    }
   ],
   "source": [
    "abcd"
   ]
  },
  {
   "cell_type": "code",
   "execution_count": 31,
   "metadata": {},
   "outputs": [
    {
     "ename": "KeyError",
     "evalue": "'Column not found: metadata_annots_top_desc'",
     "output_type": "error",
     "traceback": [
      "\u001b[1;31m---------------------------------------------------------------------------\u001b[0m",
      "\u001b[1;31mKeyError\u001b[0m                                  Traceback (most recent call last)",
      "\u001b[1;32m<ipython-input-31-53fa04757e74>\u001b[0m in \u001b[0;36m<module>\u001b[1;34m\u001b[0m\n\u001b[1;32m----> 1\u001b[1;33m \u001b[0mtrain_metadata_desc\u001b[0m \u001b[1;33m=\u001b[0m \u001b[0mtrain_dfs_metadata\u001b[0m\u001b[1;33m.\u001b[0m\u001b[0mgroupby\u001b[0m\u001b[1;33m(\u001b[0m\u001b[1;33m[\u001b[0m\u001b[1;34m'PetID'\u001b[0m\u001b[1;33m]\u001b[0m\u001b[1;33m)\u001b[0m\u001b[1;33m[\u001b[0m\u001b[1;34m'metadata_annots_top_desc'\u001b[0m\u001b[1;33m]\u001b[0m\u001b[1;33m.\u001b[0m\u001b[0munique\u001b[0m\u001b[1;33m(\u001b[0m\u001b[1;33m)\u001b[0m\u001b[1;33m\u001b[0m\u001b[1;33m\u001b[0m\u001b[0m\n\u001b[0m",
      "\u001b[1;32m~\\Anaconda3\\envs\\keras\\lib\\site-packages\\pandas\\core\\base.py\u001b[0m in \u001b[0;36m__getitem__\u001b[1;34m(self, key)\u001b[0m\n\u001b[0;32m    273\u001b[0m         \u001b[1;32melse\u001b[0m\u001b[1;33m:\u001b[0m\u001b[1;33m\u001b[0m\u001b[1;33m\u001b[0m\u001b[0m\n\u001b[0;32m    274\u001b[0m             \u001b[1;32mif\u001b[0m \u001b[0mkey\u001b[0m \u001b[1;32mnot\u001b[0m \u001b[1;32min\u001b[0m \u001b[0mself\u001b[0m\u001b[1;33m.\u001b[0m\u001b[0mobj\u001b[0m\u001b[1;33m:\u001b[0m\u001b[1;33m\u001b[0m\u001b[1;33m\u001b[0m\u001b[0m\n\u001b[1;32m--> 275\u001b[1;33m                 \u001b[1;32mraise\u001b[0m \u001b[0mKeyError\u001b[0m\u001b[1;33m(\u001b[0m\u001b[1;34m\"Column not found: {key}\"\u001b[0m\u001b[1;33m.\u001b[0m\u001b[0mformat\u001b[0m\u001b[1;33m(\u001b[0m\u001b[0mkey\u001b[0m\u001b[1;33m=\u001b[0m\u001b[0mkey\u001b[0m\u001b[1;33m)\u001b[0m\u001b[1;33m)\u001b[0m\u001b[1;33m\u001b[0m\u001b[1;33m\u001b[0m\u001b[0m\n\u001b[0m\u001b[0;32m    276\u001b[0m             \u001b[1;32mreturn\u001b[0m \u001b[0mself\u001b[0m\u001b[1;33m.\u001b[0m\u001b[0m_gotitem\u001b[0m\u001b[1;33m(\u001b[0m\u001b[0mkey\u001b[0m\u001b[1;33m,\u001b[0m \u001b[0mndim\u001b[0m\u001b[1;33m=\u001b[0m\u001b[1;36m1\u001b[0m\u001b[1;33m)\u001b[0m\u001b[1;33m\u001b[0m\u001b[1;33m\u001b[0m\u001b[0m\n\u001b[0;32m    277\u001b[0m \u001b[1;33m\u001b[0m\u001b[0m\n",
      "\u001b[1;31mKeyError\u001b[0m: 'Column not found: metadata_annots_top_desc'"
     ]
    }
   ],
   "source": [
    "train_metadata_desc = train_dfs_metadata.groupby(['PetID'])['metadata_annots_top_desc'].unique()"
   ]
  },
  {
   "cell_type": "code",
   "execution_count": null,
   "metadata": {},
   "outputs": [],
   "source": []
  },
  {
   "cell_type": "markdown",
   "metadata": {},
   "source": [
    "###########################"
   ]
  },
  {
   "cell_type": "code",
   "execution_count": 55,
   "metadata": {},
   "outputs": [],
   "source": [
    "with open('./input/petfinder-adoption-prediction/train_sentiment/000a290e4.json','r') as f:\n",
    "    file = json.load(f)"
   ]
  },
  {
   "cell_type": "code",
   "execution_count": 56,
   "metadata": {},
   "outputs": [
    {
     "data": {
      "text/plain": [
       "[{'text': {'content': 'went to teluk kumba kuanthai restaurant saw this female puppies alone by the beach..',\n",
       "   'beginOffset': -1},\n",
       "  'sentiment': {'magnitude': 0.1, 'score': 0.1}},\n",
       " {'text': {'content': 'Adopters must vaccinate, spay and keep puppy indoors/fenced Call/WhatsApp: Address: teluk kumba',\n",
       "   'beginOffset': -1},\n",
       "  'sentiment': {'magnitude': 0.5, 'score': 0.5}}]"
      ]
     },
     "execution_count": 56,
     "metadata": {},
     "output_type": "execute_result"
    }
   ],
   "source": [
    "file['sentences']"
   ]
  },
  {
   "cell_type": "code",
   "execution_count": 57,
   "metadata": {},
   "outputs": [
    {
     "data": {
      "text/plain": [
       "dict_keys(['sentences', 'tokens', 'entities', 'documentSentiment', 'language', 'categories'])"
      ]
     },
     "execution_count": 57,
     "metadata": {},
     "output_type": "execute_result"
    }
   ],
   "source": [
    "file.keys()"
   ]
  },
  {
   "cell_type": "code",
   "execution_count": 64,
   "metadata": {},
   "outputs": [
    {
     "data": {
      "text/plain": [
       "dict_keys(['text', 'sentiment'])"
      ]
     },
     "execution_count": 64,
     "metadata": {},
     "output_type": "execute_result"
    }
   ],
   "source": [
    "file['sentences'][0].keys()"
   ]
  },
  {
   "cell_type": "code",
   "execution_count": 65,
   "metadata": {},
   "outputs": [
    {
     "data": {
      "text/plain": [
       "{'content': 'went to teluk kumba kuanthai restaurant saw this female puppies alone by the beach..',\n",
       " 'beginOffset': -1}"
      ]
     },
     "execution_count": 65,
     "metadata": {},
     "output_type": "execute_result"
    }
   ],
   "source": [
    "file['sentences'][0]['text']"
   ]
  },
  {
   "cell_type": "code",
   "execution_count": 66,
   "metadata": {},
   "outputs": [
    {
     "data": {
      "text/plain": [
       "{'magnitude': 0.1, 'score': 0.1}"
      ]
     },
     "execution_count": 66,
     "metadata": {},
     "output_type": "execute_result"
    }
   ],
   "source": [
    "file['sentences'][0]['sentiment']"
   ]
  },
  {
   "cell_type": "code",
   "execution_count": 67,
   "metadata": {},
   "outputs": [
    {
     "data": {
      "text/plain": [
       "[]"
      ]
     },
     "execution_count": 67,
     "metadata": {},
     "output_type": "execute_result"
    }
   ],
   "source": [
    "file['tokens']"
   ]
  },
  {
   "cell_type": "code",
   "execution_count": 71,
   "metadata": {},
   "outputs": [
    {
     "data": {
      "text/plain": [
       "dict_keys(['name', 'type', 'metadata', 'salience', 'mentions'])"
      ]
     },
     "execution_count": 71,
     "metadata": {},
     "output_type": "execute_result"
    }
   ],
   "source": [
    "file['entities'][0].keys()"
   ]
  },
  {
   "cell_type": "code",
   "execution_count": 72,
   "metadata": {},
   "outputs": [
    {
     "data": {
      "text/plain": [
       "{}"
      ]
     },
     "execution_count": 72,
     "metadata": {},
     "output_type": "execute_result"
    }
   ],
   "source": [
    "file['entities'][0]['metadata']"
   ]
  },
  {
   "cell_type": "code",
   "execution_count": 73,
   "metadata": {},
   "outputs": [
    {
     "data": {
      "text/plain": [
       "'restaurant'"
      ]
     },
     "execution_count": 73,
     "metadata": {},
     "output_type": "execute_result"
    }
   ],
   "source": [
    "file['entities'][0]['name']"
   ]
  },
  {
   "cell_type": "code",
   "execution_count": 74,
   "metadata": {},
   "outputs": [
    {
     "data": {
      "text/plain": [
       "'LOCATION'"
      ]
     },
     "execution_count": 74,
     "metadata": {},
     "output_type": "execute_result"
    }
   ],
   "source": [
    "file['entities'][0]['type']"
   ]
  },
  {
   "cell_type": "code",
   "execution_count": 75,
   "metadata": {},
   "outputs": [
    {
     "data": {
      "text/plain": [
       "0.26085824"
      ]
     },
     "execution_count": 75,
     "metadata": {},
     "output_type": "execute_result"
    }
   ],
   "source": [
    "file['entities'][0]['salience']"
   ]
  },
  {
   "cell_type": "code",
   "execution_count": 77,
   "metadata": {},
   "outputs": [
    {
     "data": {
      "text/plain": [
       "{'text': {'content': 'restaurant', 'beginOffset': -1}, 'type': 'COMMON'}"
      ]
     },
     "execution_count": 77,
     "metadata": {},
     "output_type": "execute_result"
    }
   ],
   "source": [
    "file['entities'][0]['mentions'][0]"
   ]
  },
  {
   "cell_type": "code",
   "execution_count": 62,
   "metadata": {},
   "outputs": [
    {
     "data": {
      "text/plain": [
       "{'magnitude': 0.6, 'score': 0.3}"
      ]
     },
     "execution_count": 62,
     "metadata": {},
     "output_type": "execute_result"
    }
   ],
   "source": [
    "file['documentSentiment']"
   ]
  },
  {
   "cell_type": "code",
   "execution_count": 46,
   "metadata": {},
   "outputs": [
    {
     "data": {
      "text/plain": [
       "{'magnitude': 0.6, 'score': 0.3}"
      ]
     },
     "execution_count": 46,
     "metadata": {},
     "output_type": "execute_result"
    }
   ],
   "source": [
    "file_sentiment = file['documentSentiment']\n",
    "file_sentiment"
   ]
  },
  {
   "cell_type": "code",
   "execution_count": 47,
   "metadata": {},
   "outputs": [],
   "source": [
    "file_sentences_sentiment = [x['sentiment'] for x in file['sentences']]"
   ]
  },
  {
   "cell_type": "code",
   "execution_count": 48,
   "metadata": {},
   "outputs": [
    {
     "data": {
      "text/plain": [
       "[{'magnitude': 0.1, 'score': 0.1}, {'magnitude': 0.5, 'score': 0.5}]"
      ]
     },
     "execution_count": 48,
     "metadata": {},
     "output_type": "execute_result"
    }
   ],
   "source": [
    "file_sentences_sentiment "
   ]
  },
  {
   "cell_type": "code",
   "execution_count": 57,
   "metadata": {},
   "outputs": [
    {
     "data": {
      "text/plain": [
       "magnitude    0.6\n",
       "score        0.6\n",
       "dtype: float64"
      ]
     },
     "execution_count": 57,
     "metadata": {},
     "output_type": "execute_result"
    }
   ],
   "source": [
    "file_sentences_sentiment = pd.DataFrame.from_dict(\n",
    "            file_sentences_sentiment, orient='columns').sum()\n",
    "file_sentences_sentiment"
   ]
  },
  {
   "cell_type": "code",
   "execution_count": 58,
   "metadata": {},
   "outputs": [
    {
     "data": {
      "text/plain": [
       "{'document_magnitude': 0.6, 'document_score': 0.6}"
      ]
     },
     "execution_count": 58,
     "metadata": {},
     "output_type": "execute_result"
    }
   ],
   "source": [
    "file_sentences_sentiment = file_sentences_sentiment.add_prefix('document_').to_dict()\n",
    "file_sentences_sentiment "
   ]
  },
  {
   "cell_type": "code",
   "execution_count": 59,
   "metadata": {},
   "outputs": [
    {
     "data": {
      "text/plain": [
       "{'magnitude': 0.6,\n",
       " 'score': 0.3,\n",
       " 'document_magnitude': 0.6,\n",
       " 'document_score': 0.6}"
      ]
     },
     "execution_count": 59,
     "metadata": {},
     "output_type": "execute_result"
    }
   ],
   "source": [
    "file_sentiment.update(file_sentences_sentiment)\n",
    "file_sentiment"
   ]
  },
  {
   "cell_type": "code",
   "execution_count": 60,
   "metadata": {},
   "outputs": [
    {
     "data": {
      "text/html": [
       "<div>\n",
       "<style scoped>\n",
       "    .dataframe tbody tr th:only-of-type {\n",
       "        vertical-align: middle;\n",
       "    }\n",
       "\n",
       "    .dataframe tbody tr th {\n",
       "        vertical-align: top;\n",
       "    }\n",
       "\n",
       "    .dataframe thead th {\n",
       "        text-align: right;\n",
       "    }\n",
       "</style>\n",
       "<table border=\"1\" class=\"dataframe\">\n",
       "  <thead>\n",
       "    <tr style=\"text-align: right;\">\n",
       "      <th></th>\n",
       "      <th>magnitude</th>\n",
       "      <th>score</th>\n",
       "      <th>document_magnitude</th>\n",
       "      <th>document_score</th>\n",
       "    </tr>\n",
       "  </thead>\n",
       "  <tbody>\n",
       "    <tr>\n",
       "      <th>0</th>\n",
       "      <td>0.6</td>\n",
       "      <td>0.3</td>\n",
       "      <td>0.6</td>\n",
       "      <td>0.6</td>\n",
       "    </tr>\n",
       "  </tbody>\n",
       "</table>\n",
       "</div>"
      ],
      "text/plain": [
       "   magnitude  score  document_magnitude  document_score\n",
       "0        0.6    0.3                 0.6             0.6"
      ]
     },
     "execution_count": 60,
     "metadata": {},
     "output_type": "execute_result"
    }
   ],
   "source": [
    "df_sentiment = pd.DataFrame.from_dict(file_sentiment, orient='index').T\n",
    "df_sentiment "
   ]
  },
  {
   "cell_type": "code",
   "execution_count": 36,
   "metadata": {},
   "outputs": [],
   "source": []
  },
  {
   "cell_type": "code",
   "execution_count": 29,
   "metadata": {},
   "outputs": [
    {
     "data": {
      "text/plain": [
       "dict_keys(['sentences', 'tokens', 'entities', 'documentSentiment', 'language', 'categories'])"
      ]
     },
     "execution_count": 29,
     "metadata": {},
     "output_type": "execute_result"
    }
   ],
   "source": [
    "sentiment_file.keys()"
   ]
  },
  {
   "cell_type": "code",
   "execution_count": 34,
   "metadata": {},
   "outputs": [
    {
     "data": {
      "text/plain": [
       "{'magnitude': 0.6, 'score': 0.3}"
      ]
     },
     "execution_count": 34,
     "metadata": {},
     "output_type": "execute_result"
    }
   ],
   "source": [
    "sentiment_file['documentSentiment']"
   ]
  },
  {
   "cell_type": "code",
   "execution_count": 35,
   "metadata": {},
   "outputs": [
    {
     "data": {
      "text/plain": [
       "[{'name': 'restaurant',\n",
       "  'type': 'LOCATION',\n",
       "  'metadata': {},\n",
       "  'salience': 0.26085824,\n",
       "  'mentions': [{'text': {'content': 'restaurant', 'beginOffset': -1},\n",
       "    'type': 'COMMON'}]},\n",
       " {'name': 'puppies',\n",
       "  'type': 'OTHER',\n",
       "  'metadata': {},\n",
       "  'salience': 0.20370758,\n",
       "  'mentions': [{'text': {'content': 'puppies', 'beginOffset': -1},\n",
       "    'type': 'COMMON'}]},\n",
       " {'name': 'beach',\n",
       "  'type': 'LOCATION',\n",
       "  'metadata': {},\n",
       "  'salience': 0.18226475,\n",
       "  'mentions': [{'text': {'content': 'beach', 'beginOffset': -1},\n",
       "    'type': 'COMMON'}]},\n",
       " {'name': 'Call',\n",
       "  'type': 'OTHER',\n",
       "  'metadata': {'wikipedia_url': 'https://en.wikipedia.org/wiki/Telephone_call',\n",
       "   'mid': '/m/024j49'},\n",
       "  'salience': 0.13754916,\n",
       "  'mentions': [{'text': {'content': 'WhatsApp', 'beginOffset': -1},\n",
       "    'type': 'COMMON'},\n",
       "   {'text': {'content': 'Call', 'beginOffset': -1}, 'type': 'PROPER'}]},\n",
       " {'name': 'teluk kumba',\n",
       "  'type': 'OTHER',\n",
       "  'metadata': {},\n",
       "  'salience': 0.09735242,\n",
       "  'mentions': [{'text': {'content': 'Address', 'beginOffset': -1},\n",
       "    'type': 'COMMON'},\n",
       "   {'text': {'content': 'teluk kumba', 'beginOffset': -1}, 'type': 'PROPER'}]},\n",
       " {'name': 'Adopters',\n",
       "  'type': 'PERSON',\n",
       "  'metadata': {},\n",
       "  'salience': 0.08974344,\n",
       "  'mentions': [{'text': {'content': 'Adopters', 'beginOffset': -1},\n",
       "    'type': 'COMMON'}]},\n",
       " {'name': 'puppy',\n",
       "  'type': 'OTHER',\n",
       "  'metadata': {},\n",
       "  'salience': 0.028524412,\n",
       "  'mentions': [{'text': {'content': 'puppy', 'beginOffset': -1},\n",
       "    'type': 'COMMON'}]}]"
      ]
     },
     "execution_count": 35,
     "metadata": {},
     "output_type": "execute_result"
    }
   ],
   "source": [
    "sentiment_file['entities']"
   ]
  },
  {
   "cell_type": "code",
   "execution_count": 33,
   "metadata": {},
   "outputs": [
    {
     "data": {
      "text/plain": [
       "[{'text': {'content': 'went to teluk kumba kuanthai restaurant saw this female puppies alone by the beach..',\n",
       "   'beginOffset': -1},\n",
       "  'sentiment': {'magnitude': 0.1, 'score': 0.1}},\n",
       " {'text': {'content': 'Adopters must vaccinate, spay and keep puppy indoors/fenced Call/WhatsApp: Address: teluk kumba',\n",
       "   'beginOffset': -1},\n",
       "  'sentiment': {'magnitude': 0.5, 'score': 0.5}}]"
      ]
     },
     "execution_count": 33,
     "metadata": {},
     "output_type": "execute_result"
    }
   ],
   "source": [
    "sentiment_file['sentences']"
   ]
  },
  {
   "cell_type": "code",
   "execution_count": null,
   "metadata": {},
   "outputs": [],
   "source": []
  },
  {
   "cell_type": "code",
   "execution_count": 30,
   "metadata": {},
   "outputs": [
    {
     "data": {
      "text/plain": [
       "{'sentences': [{'text': {'content': 'went to teluk kumba kuanthai restaurant saw this female puppies alone by the beach..',\n",
       "    'beginOffset': -1},\n",
       "   'sentiment': {'magnitude': 0.1, 'score': 0.1}},\n",
       "  {'text': {'content': 'Adopters must vaccinate, spay and keep puppy indoors/fenced Call/WhatsApp: Address: teluk kumba',\n",
       "    'beginOffset': -1},\n",
       "   'sentiment': {'magnitude': 0.5, 'score': 0.5}}],\n",
       " 'tokens': [],\n",
       " 'entities': [{'name': 'restaurant',\n",
       "   'type': 'LOCATION',\n",
       "   'metadata': {},\n",
       "   'salience': 0.26085824,\n",
       "   'mentions': [{'text': {'content': 'restaurant', 'beginOffset': -1},\n",
       "     'type': 'COMMON'}]},\n",
       "  {'name': 'puppies',\n",
       "   'type': 'OTHER',\n",
       "   'metadata': {},\n",
       "   'salience': 0.20370758,\n",
       "   'mentions': [{'text': {'content': 'puppies', 'beginOffset': -1},\n",
       "     'type': 'COMMON'}]},\n",
       "  {'name': 'beach',\n",
       "   'type': 'LOCATION',\n",
       "   'metadata': {},\n",
       "   'salience': 0.18226475,\n",
       "   'mentions': [{'text': {'content': 'beach', 'beginOffset': -1},\n",
       "     'type': 'COMMON'}]},\n",
       "  {'name': 'Call',\n",
       "   'type': 'OTHER',\n",
       "   'metadata': {'wikipedia_url': 'https://en.wikipedia.org/wiki/Telephone_call',\n",
       "    'mid': '/m/024j49'},\n",
       "   'salience': 0.13754916,\n",
       "   'mentions': [{'text': {'content': 'WhatsApp', 'beginOffset': -1},\n",
       "     'type': 'COMMON'},\n",
       "    {'text': {'content': 'Call', 'beginOffset': -1}, 'type': 'PROPER'}]},\n",
       "  {'name': 'teluk kumba',\n",
       "   'type': 'OTHER',\n",
       "   'metadata': {},\n",
       "   'salience': 0.09735242,\n",
       "   'mentions': [{'text': {'content': 'Address', 'beginOffset': -1},\n",
       "     'type': 'COMMON'},\n",
       "    {'text': {'content': 'teluk kumba', 'beginOffset': -1},\n",
       "     'type': 'PROPER'}]},\n",
       "  {'name': 'Adopters',\n",
       "   'type': 'PERSON',\n",
       "   'metadata': {},\n",
       "   'salience': 0.08974344,\n",
       "   'mentions': [{'text': {'content': 'Adopters', 'beginOffset': -1},\n",
       "     'type': 'COMMON'}]},\n",
       "  {'name': 'puppy',\n",
       "   'type': 'OTHER',\n",
       "   'metadata': {},\n",
       "   'salience': 0.028524412,\n",
       "   'mentions': [{'text': {'content': 'puppy', 'beginOffset': -1},\n",
       "     'type': 'COMMON'}]}],\n",
       " 'documentSentiment': {'magnitude': 0.6, 'score': 0.3},\n",
       " 'language': 'en',\n",
       " 'categories': []}"
      ]
     },
     "execution_count": 30,
     "metadata": {},
     "output_type": "execute_result"
    }
   ],
   "source": [
    "sentiment_file"
   ]
  },
  {
   "cell_type": "markdown",
   "metadata": {},
   "source": [
    "######################  metadata"
   ]
  },
  {
   "cell_type": "code",
   "execution_count": 78,
   "metadata": {},
   "outputs": [],
   "source": [
    "with open('./input/petfinder-adoption-prediction/train_metadata/000a290e4-1.json','r') as f:\n",
    "    file = json.load(f)"
   ]
  },
  {
   "cell_type": "code",
   "execution_count": 79,
   "metadata": {},
   "outputs": [
    {
     "data": {
      "text/plain": [
       "{'labelAnnotations': [{'mid': '/m/0bt9lr',\n",
       "   'description': 'dog',\n",
       "   'score': 0.96414083,\n",
       "   'topicality': 0.96414083},\n",
       "  {'mid': '/m/0kpmf',\n",
       "   'description': 'dog breed',\n",
       "   'score': 0.9419755,\n",
       "   'topicality': 0.9419755},\n",
       "  {'mid': '/m/01z5f',\n",
       "   'description': 'dog like mammal',\n",
       "   'score': 0.92154,\n",
       "   'topicality': 0.92154},\n",
       "  {'mid': '/m/02xl47d',\n",
       "   'description': 'dog breed group',\n",
       "   'score': 0.8994595,\n",
       "   'topicality': 0.8994595},\n",
       "  {'mid': '/m/0393qn',\n",
       "   'description': 'phalÃ¨ne',\n",
       "   'score': 0.71789825,\n",
       "   'topicality': 0.71789825},\n",
       "  {'mid': '/m/01lrl',\n",
       "   'description': 'carnivoran',\n",
       "   'score': 0.7058321,\n",
       "   'topicality': 0.7058321},\n",
       "  {'mid': '/m/01pkw7',\n",
       "   'description': 'papillon',\n",
       "   'score': 0.6653916,\n",
       "   'topicality': 0.6653916},\n",
       "  {'mid': '/m/03yl64',\n",
       "   'description': 'companion dog',\n",
       "   'score': 0.6042771,\n",
       "   'topicality': 0.6042771},\n",
       "  {'mid': '/m/0fxnkq',\n",
       "   'description': 'moscow watchdog',\n",
       "   'score': 0.6030931,\n",
       "   'topicality': 0.6030931},\n",
       "  {'mid': '/m/0d7s3w',\n",
       "   'description': 'puppy',\n",
       "   'score': 0.60174114,\n",
       "   'topicality': 0.60174114}],\n",
       " 'imagePropertiesAnnotation': {'dominantColors': {'colors': [{'color': {'red': 155,\n",
       "      'green': 112,\n",
       "      'blue': 91},\n",
       "     'score': 0.13871339,\n",
       "     'pixelFraction': 0.015743626},\n",
       "    {'color': {'red': 165, 'green': 146, 'blue': 129},\n",
       "     'score': 0.072677985,\n",
       "     'pixelFraction': 0.19627587},\n",
       "    {'color': {'red': 35, 'green': 23, 'blue': 21},\n",
       "     'score': 0.06190489,\n",
       "     'pixelFraction': 0.008151523},\n",
       "    {'color': {'red': 109, 'green': 75, 'blue': 56},\n",
       "     'score': 0.12973213,\n",
       "     'pixelFraction': 0.011587949},\n",
       "    {'color': {'red': 76, 'green': 47, 'blue': 34},\n",
       "     'score': 0.11119289,\n",
       "     'pixelFraction': 0.00871094},\n",
       "    {'color': {'red': 139, 'green': 117, 'blue': 100},\n",
       "     'score': 0.07256268,\n",
       "     'pixelFraction': 0.02693199},\n",
       "    {'color': {'red': 184, 'green': 140, 'blue': 117},\n",
       "     'score': 0.06616954,\n",
       "     'pixelFraction': 0.016382962},\n",
       "    {'color': {'red': 67, 'green': 48, 'blue': 35},\n",
       "     'score': 0.061422497,\n",
       "     'pixelFraction': 0.006393351},\n",
       "    {'color': {'red': 62, 'green': 47, 'blue': 42},\n",
       "     'score': 0.049733013,\n",
       "     'pixelFraction': 0.007991688},\n",
       "    {'color': {'red': 211, 'green': 191, 'blue': 175},\n",
       "     'score': 0.049667455,\n",
       "     'pixelFraction': 0.19691521}]}},\n",
       " 'cropHintsAnnotation': {'cropHints': [{'boundingPoly': {'vertices': [{},\n",
       "      {'x': 359},\n",
       "      {'x': 359, 'y': 479},\n",
       "      {'y': 479}]},\n",
       "    'confidence': 0.79999995,\n",
       "    'importanceFraction': 1}]}}"
      ]
     },
     "execution_count": 79,
     "metadata": {},
     "output_type": "execute_result"
    }
   ],
   "source": [
    "file"
   ]
  },
  {
   "cell_type": "code",
   "execution_count": 80,
   "metadata": {},
   "outputs": [
    {
     "data": {
      "text/plain": [
       "dict_keys(['labelAnnotations', 'imagePropertiesAnnotation', 'cropHintsAnnotation'])"
      ]
     },
     "execution_count": 80,
     "metadata": {},
     "output_type": "execute_result"
    }
   ],
   "source": [
    "file.keys()"
   ]
  },
  {
   "cell_type": "code",
   "execution_count": 122,
   "metadata": {},
   "outputs": [
    {
     "data": {
      "text/plain": [
       "{'mid': '/m/02xl47d',\n",
       " 'description': 'dog breed group',\n",
       " 'score': 0.8994595,\n",
       " 'topicality': 0.8994595}"
      ]
     },
     "execution_count": 122,
     "metadata": {},
     "output_type": "execute_result"
    }
   ],
   "source": [
    "file['labelAnnotations'][3]"
   ]
  },
  {
   "cell_type": "code",
   "execution_count": null,
   "metadata": {},
   "outputs": [],
   "source": []
  },
  {
   "cell_type": "code",
   "execution_count": 115,
   "metadata": {},
   "outputs": [
    {
     "name": "stdout",
     "output_type": "stream",
     "text": [
      "3\n"
     ]
    },
    {
     "data": {
      "text/plain": [
       "[{'mid': '/m/0bt9lr',\n",
       "  'description': 'dog',\n",
       "  'score': 0.96414083,\n",
       "  'topicality': 0.96414083},\n",
       " {'mid': '/m/0kpmf',\n",
       "  'description': 'dog breed',\n",
       "  'score': 0.9419755,\n",
       "  'topicality': 0.9419755},\n",
       " {'mid': '/m/01z5f',\n",
       "  'description': 'dog like mammal',\n",
       "  'score': 0.92154,\n",
       "  'topicality': 0.92154}]"
      ]
     },
     "execution_count": 115,
     "metadata": {},
     "output_type": "execute_result"
    }
   ],
   "source": [
    "print(int(len(file['labelAnnotations'])*0.3))\n",
    "file['labelAnnotations'][: int(len(file['labelAnnotations'])*0.3)]"
   ]
  },
  {
   "cell_type": "code",
   "execution_count": 101,
   "metadata": {},
   "outputs": [
    {
     "data": {
      "text/plain": [
       "{'color': {'red': 155, 'green': 112, 'blue': 91},\n",
       " 'score': 0.13871339,\n",
       " 'pixelFraction': 0.015743626}"
      ]
     },
     "execution_count": 101,
     "metadata": {},
     "output_type": "execute_result"
    }
   ],
   "source": [
    "file['imagePropertiesAnnotation']['dominantColors']['colors'][0]"
   ]
  },
  {
   "cell_type": "code",
   "execution_count": 108,
   "metadata": {},
   "outputs": [
    {
     "data": {
      "text/plain": [
       "{'boundingPoly': {'vertices': [{},\n",
       "   {'x': 359},\n",
       "   {'x': 359, 'y': 479},\n",
       "   {'y': 479}]},\n",
       " 'confidence': 0.79999995,\n",
       " 'importanceFraction': 1}"
      ]
     },
     "execution_count": 108,
     "metadata": {},
     "output_type": "execute_result"
    }
   ],
   "source": [
    "file['cropHintsAnnotation']['cropHints'][0]"
   ]
  },
  {
   "cell_type": "code",
   "execution_count": 69,
   "metadata": {},
   "outputs": [
    {
     "data": {
      "text/plain": [
       "0    Nibble is a 3+ month old ball of cuteness. He ...\n",
       "1    I just found it alone yesterday near my apartm...\n",
       "2    Their pregnant mother was dumped by her irresp...\n",
       "3    Good guard dog, very alert, active, obedience ...\n",
       "4    This handsome yet cute boy is up for adoption....\n",
       "Name: Description, dtype: object"
      ]
     },
     "execution_count": 69,
     "metadata": {},
     "output_type": "execute_result"
    }
   ],
   "source": [
    "df_train['Description'].head()"
   ]
  },
  {
   "cell_type": "code",
   "execution_count": 138,
   "metadata": {},
   "outputs": [],
   "source": [
    "df_gender = df_train['Description']"
   ]
  },
  {
   "cell_type": "code",
   "execution_count": null,
   "metadata": {},
   "outputs": [],
   "source": []
  },
  {
   "cell_type": "code",
   "execution_count": 139,
   "metadata": {},
   "outputs": [],
   "source": [
    "if ' he' in 'she is good looking':\n",
    "    print('found')\n"
   ]
  },
  {
   "cell_type": "code",
   "execution_count": 140,
   "metadata": {},
   "outputs": [],
   "source": [
    "gender = []\n",
    "\n",
    "for i,text in df_gender.items():\n",
    "    \n",
    "    text =str(text).lower()\n",
    "    #print(type(text)\n",
    "    #break\n",
    "    if (' she ' in text) or  (' her ' in text) or (' girl ' in text):\n",
    "        gender.append('F')\n",
    "    elif (' he ' in text) or  (' him ' in text) or (' boy ' in text) or (' his ' in text):\n",
    "        gender.append('M')\n",
    "    else:\n",
    "        gender.append('U')"
   ]
  },
  {
   "cell_type": "code",
   "execution_count": 141,
   "metadata": {},
   "outputs": [
    {
     "data": {
      "text/plain": [
       "'gender'"
      ]
     },
     "execution_count": 141,
     "metadata": {},
     "output_type": "execute_result"
    }
   ],
   "source": [
    "i"
   ]
  },
  {
   "cell_type": "code",
   "execution_count": 142,
   "metadata": {},
   "outputs": [
    {
     "data": {
      "text/plain": [
       "14994"
      ]
     },
     "execution_count": 142,
     "metadata": {},
     "output_type": "execute_result"
    }
   ],
   "source": [
    "len(gender)"
   ]
  },
  {
   "cell_type": "code",
   "execution_count": 143,
   "metadata": {},
   "outputs": [],
   "source": [
    "df_gender = pd.DataFrame(gender)\n",
    "df_gender.columns = ['gender']\n",
    "#df_gender = df_train['Description']"
   ]
  },
  {
   "cell_type": "code",
   "execution_count": 144,
   "metadata": {},
   "outputs": [],
   "source": [
    "#df_gender"
   ]
  },
  {
   "cell_type": "code",
   "execution_count": 145,
   "metadata": {},
   "outputs": [
    {
     "data": {
      "text/plain": [
       "U    7202\n",
       "F    4806\n",
       "M    2986\n",
       "Name: gender, dtype: int64"
      ]
     },
     "execution_count": 145,
     "metadata": {},
     "output_type": "execute_result"
    }
   ],
   "source": [
    "df_gender['gender'].value_counts()"
   ]
  },
  {
   "cell_type": "code",
   "execution_count": 178,
   "metadata": {},
   "outputs": [],
   "source": [
    "df1 = pd.read_csv('D:/Project data/Histopathologic Cancer Detection/dense201_upd.csv')\n",
    "\n",
    "df2 = pd.read_csv('D:/Project data/Histopathologic Cancer Detection/sub0.2_0.8.csv')\n",
    "\n",
    "##df3 = pd.read_csv('D:/Project data/Histopathologic Cancer Detection/nasnet_upd.csv')\n",
    "\n",
    "df3 = pd.read_csv('D:/Project data/Histopathologic Cancer Detection/resnet34_fastai_9633.csv')"
   ]
  },
  {
   "cell_type": "code",
   "execution_count": 179,
   "metadata": {},
   "outputs": [],
   "source": [
    "df1.columns = ['id', 'label1']\n",
    "df2.columns = ['id', 'label2']\n",
    "df3.columns = ['id', 'label3']"
   ]
  },
  {
   "cell_type": "code",
   "execution_count": 180,
   "metadata": {},
   "outputs": [],
   "source": [
    "df = df3.merge(df1.merge(df2, on= 'id'), on= 'id')"
   ]
  },
  {
   "cell_type": "code",
   "execution_count": 181,
   "metadata": {},
   "outputs": [
    {
     "data": {
      "text/html": [
       "<div>\n",
       "<style scoped>\n",
       "    .dataframe tbody tr th:only-of-type {\n",
       "        vertical-align: middle;\n",
       "    }\n",
       "\n",
       "    .dataframe tbody tr th {\n",
       "        vertical-align: top;\n",
       "    }\n",
       "\n",
       "    .dataframe thead th {\n",
       "        text-align: right;\n",
       "    }\n",
       "</style>\n",
       "<table border=\"1\" class=\"dataframe\">\n",
       "  <thead>\n",
       "    <tr style=\"text-align: right;\">\n",
       "      <th></th>\n",
       "      <th>id</th>\n",
       "      <th>label3</th>\n",
       "      <th>label1</th>\n",
       "      <th>label2</th>\n",
       "    </tr>\n",
       "  </thead>\n",
       "  <tbody>\n",
       "    <tr>\n",
       "      <th>0</th>\n",
       "      <td>0b2ea2a822ad23fdb1b5dd26653da899fbd2c0d5</td>\n",
       "      <td>0.002510</td>\n",
       "      <td>1.152180e-04</td>\n",
       "      <td>2.304440e-04</td>\n",
       "    </tr>\n",
       "    <tr>\n",
       "      <th>1</th>\n",
       "      <td>95596b92e5066c5c52466c90b69ff089b39f2737</td>\n",
       "      <td>0.151810</td>\n",
       "      <td>2.909326e-01</td>\n",
       "      <td>6.332633e-02</td>\n",
       "    </tr>\n",
       "    <tr>\n",
       "      <th>2</th>\n",
       "      <td>248e6738860e2ebcf6258cdc1f32f299e0c76914</td>\n",
       "      <td>0.001777</td>\n",
       "      <td>2.590000e-09</td>\n",
       "      <td>9.634900e-09</td>\n",
       "    </tr>\n",
       "    <tr>\n",
       "      <th>3</th>\n",
       "      <td>2c35657e312966e9294eac6841726ff3a748febf</td>\n",
       "      <td>0.002632</td>\n",
       "      <td>8.520000e-05</td>\n",
       "      <td>1.725525e-04</td>\n",
       "    </tr>\n",
       "    <tr>\n",
       "      <th>4</th>\n",
       "      <td>145782eb7caa1c516acbe2eda34d9a3f31c41fd6</td>\n",
       "      <td>0.062357</td>\n",
       "      <td>7.916833e-03</td>\n",
       "      <td>1.750345e-02</td>\n",
       "    </tr>\n",
       "  </tbody>\n",
       "</table>\n",
       "</div>"
      ],
      "text/plain": [
       "                                         id    label3        label1  \\\n",
       "0  0b2ea2a822ad23fdb1b5dd26653da899fbd2c0d5  0.002510  1.152180e-04   \n",
       "1  95596b92e5066c5c52466c90b69ff089b39f2737  0.151810  2.909326e-01   \n",
       "2  248e6738860e2ebcf6258cdc1f32f299e0c76914  0.001777  2.590000e-09   \n",
       "3  2c35657e312966e9294eac6841726ff3a748febf  0.002632  8.520000e-05   \n",
       "4  145782eb7caa1c516acbe2eda34d9a3f31c41fd6  0.062357  7.916833e-03   \n",
       "\n",
       "         label2  \n",
       "0  2.304440e-04  \n",
       "1  6.332633e-02  \n",
       "2  9.634900e-09  \n",
       "3  1.725525e-04  \n",
       "4  1.750345e-02  "
      ]
     },
     "execution_count": 181,
     "metadata": {},
     "output_type": "execute_result"
    }
   ],
   "source": [
    "df.head()"
   ]
  },
  {
   "cell_type": "code",
   "execution_count": 184,
   "metadata": {},
   "outputs": [],
   "source": [
    "df['label'] = .5*df['label1'] + .90*df['label2'] + .5*df['label3']"
   ]
  },
  {
   "cell_type": "code",
   "execution_count": null,
   "metadata": {},
   "outputs": [],
   "source": []
  },
  {
   "cell_type": "code",
   "execution_count": 185,
   "metadata": {},
   "outputs": [],
   "source": [
    "df[['id','label']].to_csv('D:/Project data/Histopathologic Cancer Detection/5_dense201_90_9754sub_5_resnet34.csv'\n",
    "                          ,index = False)"
   ]
  },
  {
   "cell_type": "code",
   "execution_count": 36,
   "metadata": {},
   "outputs": [],
   "source": []
  },
  {
   "cell_type": "code",
   "execution_count": 37,
   "metadata": {},
   "outputs": [],
   "source": []
  },
  {
   "cell_type": "code",
   "execution_count": 60,
   "metadata": {},
   "outputs": [],
   "source": [
    "## create the file outside the loop\n",
    "with open(\"./guru1991.txt\",\"w+\") as f:\n",
    "    f.write('I am savings the loss here \\n')\n",
    "    \n",
    "## Inside the loop of the epochs write to the file\n",
    "epoch =2.00\n",
    "val_loss = .0922\n",
    "with open(\"./guru1991.txt\",\"a+\") as f:\n",
    "    f.write(f\"epoch  {epoch} validation loss {val_loss:0.2f} \\n\")\n",
    "## Now download the file to gmail drive\n"
   ]
  },
  {
   "cell_type": "code",
   "execution_count": 62,
   "metadata": {},
   "outputs": [],
   "source": [
    "epoch =2.00\n",
    "val_loss = .0922\n",
    "with open(\"./guru1991.txt\",\"a+\") as f:\n",
    "    f.write(f\"epoch  {epoch} validation loss {val_loss:0.2f} \\n\")"
   ]
  },
  {
   "cell_type": "code",
   "execution_count": null,
   "metadata": {},
   "outputs": [],
   "source": []
  }
 ],
 "metadata": {
  "kernelspec": {
   "display_name": "Python 3",
   "language": "python",
   "name": "python3"
  },
  "language_info": {
   "codemirror_mode": {
    "name": "ipython",
    "version": 3
   },
   "file_extension": ".py",
   "mimetype": "text/x-python",
   "name": "python",
   "nbconvert_exporter": "python",
   "pygments_lexer": "ipython3",
   "version": "3.6.8"
  }
 },
 "nbformat": 4,
 "nbformat_minor": 2
}
